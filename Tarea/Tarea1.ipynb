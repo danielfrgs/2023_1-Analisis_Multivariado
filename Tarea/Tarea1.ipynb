{
  "nbformat": 4,
  "nbformat_minor": 0,
  "metadata": {
    "colab": {
      "provenance": [],
      "collapsed_sections": [],
      "authorship_tag": "ABX9TyPx5nWAmKphCdwV9eKyfb3D",
      "include_colab_link": true
    },
    "kernelspec": {
      "name": "python3",
      "display_name": "Python 3"
    },
    "language_info": {
      "name": "python"
    }
  },
  "cells": [
    {
      "cell_type": "markdown",
      "metadata": {
        "id": "view-in-github",
        "colab_type": "text"
      },
      "source": [
        "<a href=\"https://colab.research.google.com/github/danielfrgs/2023_1-Analisis_Multivariado/blob/main/Tarea/Tarea1.ipynb\" target=\"_parent\"><img src=\"https://colab.research.google.com/assets/colab-badge.svg\" alt=\"Open In Colab\"/></a>"
      ]
    },
    {
      "cell_type": "markdown",
      "source": [
        "Librerias"
      ],
      "metadata": {
        "id": "tbcPNcZaOtPe"
      }
    },
    {
      "cell_type": "code",
      "source": [
        "from google.colab import drive\n",
        "drive.mount('/content/drive')"
      ],
      "metadata": {
        "colab": {
          "base_uri": "https://localhost:8080/"
        },
        "id": "sYXVulUDUlEQ",
        "outputId": "f0c4f8d1-a0d4-4ea9-b148-299b0f17a7bd"
      },
      "execution_count": 1,
      "outputs": [
        {
          "output_type": "stream",
          "name": "stdout",
          "text": [
            "Mounted at /content/drive\n"
          ]
        }
      ]
    },
    {
      "cell_type": "code",
      "source": [
        "import pandas as pd\n",
        "import numpy as np\n",
        "import matplotlib.pyplot as plt\n",
        "import seaborn as sns\n",
        "sns.set_theme(style=\"whitegrid\")\n",
        "from matplotlib.pyplot import figure\n",
        "\n",
        "figure(figsize=(12, 10), dpi=300)\n",
        "plt.rcParams[\"figure.figsize\"] = (8,6)\n"
      ],
      "metadata": {
        "id": "B3lX60ziVbDR",
        "colab": {
          "base_uri": "https://localhost:8080/",
          "height": 35
        },
        "outputId": "ea52fcc0-5293-4977-ba08-6fc6fe654836"
      },
      "execution_count": 2,
      "outputs": [
        {
          "output_type": "display_data",
          "data": {
            "text/plain": [
              "<Figure size 3600x3000 with 0 Axes>"
            ]
          },
          "metadata": {}
        }
      ]
    },
    {
      "cell_type": "markdown",
      "source": [
        "# Ejercicio 1\n",
        "\n",
        "Para los datos correspondientes al rendimiento, millas por galón de combustible, de los automóviles provenientes de Japón, Norte América y Europd, encontrar en cada caso, las estadístricas: $x_*, x^*, M, F_L, F_U, b_L, b_U, \\bar{x}$."
      ],
      "metadata": {
        "id": "6R4FEUxTUe38"
      }
    },
    {
      "cell_type": "markdown",
      "source": [
        "Primero  vamos a hacer la lectura de los datos utilizando la libreria `pandas`."
      ],
      "metadata": {
        "id": "LX4hXtWMOSqC"
      }
    },
    {
      "cell_type": "code",
      "source": [
        "combustible = pd.read_csv('/content/drive/MyDrive/Universidad/Ciencia de Datos/7mo Semestre/2023_1-Analisis_Multivariado/Ejercicios/E1/carc B.txt', sep=\" \",header=None)"
      ],
      "metadata": {
        "id": "G7qJlfeoVise"
      },
      "execution_count": 3,
      "outputs": []
    },
    {
      "cell_type": "code",
      "source": [
        "combustible"
      ],
      "metadata": {
        "colab": {
          "base_uri": "https://localhost:8080/",
          "height": 424
        },
        "id": "YzvG6aE1X_Z7",
        "outputId": "a881f5ad-ac2a-412e-d411-11e5f2b6b6f3"
      },
      "execution_count": 4,
      "outputs": [
        {
          "output_type": "execute_result",
          "data": {
            "text/plain": [
              "    0   1\n",
              "0   1  22\n",
              "1   1  17\n",
              "2   1  22\n",
              "3   2  17\n",
              "4   2  23\n",
              ".. ..  ..\n",
              "69  2  25\n",
              "70  2  41\n",
              "71  2  25\n",
              "72  2  23\n",
              "73  2  17\n",
              "\n",
              "[74 rows x 2 columns]"
            ],
            "text/html": [
              "\n",
              "  <div id=\"df-11f64989-27f1-4150-9f49-1c9f14fe2cf5\">\n",
              "    <div class=\"colab-df-container\">\n",
              "      <div>\n",
              "<style scoped>\n",
              "    .dataframe tbody tr th:only-of-type {\n",
              "        vertical-align: middle;\n",
              "    }\n",
              "\n",
              "    .dataframe tbody tr th {\n",
              "        vertical-align: top;\n",
              "    }\n",
              "\n",
              "    .dataframe thead th {\n",
              "        text-align: right;\n",
              "    }\n",
              "</style>\n",
              "<table border=\"1\" class=\"dataframe\">\n",
              "  <thead>\n",
              "    <tr style=\"text-align: right;\">\n",
              "      <th></th>\n",
              "      <th>0</th>\n",
              "      <th>1</th>\n",
              "    </tr>\n",
              "  </thead>\n",
              "  <tbody>\n",
              "    <tr>\n",
              "      <th>0</th>\n",
              "      <td>1</td>\n",
              "      <td>22</td>\n",
              "    </tr>\n",
              "    <tr>\n",
              "      <th>1</th>\n",
              "      <td>1</td>\n",
              "      <td>17</td>\n",
              "    </tr>\n",
              "    <tr>\n",
              "      <th>2</th>\n",
              "      <td>1</td>\n",
              "      <td>22</td>\n",
              "    </tr>\n",
              "    <tr>\n",
              "      <th>3</th>\n",
              "      <td>2</td>\n",
              "      <td>17</td>\n",
              "    </tr>\n",
              "    <tr>\n",
              "      <th>4</th>\n",
              "      <td>2</td>\n",
              "      <td>23</td>\n",
              "    </tr>\n",
              "    <tr>\n",
              "      <th>...</th>\n",
              "      <td>...</td>\n",
              "      <td>...</td>\n",
              "    </tr>\n",
              "    <tr>\n",
              "      <th>69</th>\n",
              "      <td>2</td>\n",
              "      <td>25</td>\n",
              "    </tr>\n",
              "    <tr>\n",
              "      <th>70</th>\n",
              "      <td>2</td>\n",
              "      <td>41</td>\n",
              "    </tr>\n",
              "    <tr>\n",
              "      <th>71</th>\n",
              "      <td>2</td>\n",
              "      <td>25</td>\n",
              "    </tr>\n",
              "    <tr>\n",
              "      <th>72</th>\n",
              "      <td>2</td>\n",
              "      <td>23</td>\n",
              "    </tr>\n",
              "    <tr>\n",
              "      <th>73</th>\n",
              "      <td>2</td>\n",
              "      <td>17</td>\n",
              "    </tr>\n",
              "  </tbody>\n",
              "</table>\n",
              "<p>74 rows × 2 columns</p>\n",
              "</div>\n",
              "      <button class=\"colab-df-convert\" onclick=\"convertToInteractive('df-11f64989-27f1-4150-9f49-1c9f14fe2cf5')\"\n",
              "              title=\"Convert this dataframe to an interactive table.\"\n",
              "              style=\"display:none;\">\n",
              "        \n",
              "  <svg xmlns=\"http://www.w3.org/2000/svg\" height=\"24px\"viewBox=\"0 0 24 24\"\n",
              "       width=\"24px\">\n",
              "    <path d=\"M0 0h24v24H0V0z\" fill=\"none\"/>\n",
              "    <path d=\"M18.56 5.44l.94 2.06.94-2.06 2.06-.94-2.06-.94-.94-2.06-.94 2.06-2.06.94zm-11 1L8.5 8.5l.94-2.06 2.06-.94-2.06-.94L8.5 2.5l-.94 2.06-2.06.94zm10 10l.94 2.06.94-2.06 2.06-.94-2.06-.94-.94-2.06-.94 2.06-2.06.94z\"/><path d=\"M17.41 7.96l-1.37-1.37c-.4-.4-.92-.59-1.43-.59-.52 0-1.04.2-1.43.59L10.3 9.45l-7.72 7.72c-.78.78-.78 2.05 0 2.83L4 21.41c.39.39.9.59 1.41.59.51 0 1.02-.2 1.41-.59l7.78-7.78 2.81-2.81c.8-.78.8-2.07 0-2.86zM5.41 20L4 18.59l7.72-7.72 1.47 1.35L5.41 20z\"/>\n",
              "  </svg>\n",
              "      </button>\n",
              "      \n",
              "  <style>\n",
              "    .colab-df-container {\n",
              "      display:flex;\n",
              "      flex-wrap:wrap;\n",
              "      gap: 12px;\n",
              "    }\n",
              "\n",
              "    .colab-df-convert {\n",
              "      background-color: #E8F0FE;\n",
              "      border: none;\n",
              "      border-radius: 50%;\n",
              "      cursor: pointer;\n",
              "      display: none;\n",
              "      fill: #1967D2;\n",
              "      height: 32px;\n",
              "      padding: 0 0 0 0;\n",
              "      width: 32px;\n",
              "    }\n",
              "\n",
              "    .colab-df-convert:hover {\n",
              "      background-color: #E2EBFA;\n",
              "      box-shadow: 0px 1px 2px rgba(60, 64, 67, 0.3), 0px 1px 3px 1px rgba(60, 64, 67, 0.15);\n",
              "      fill: #174EA6;\n",
              "    }\n",
              "\n",
              "    [theme=dark] .colab-df-convert {\n",
              "      background-color: #3B4455;\n",
              "      fill: #D2E3FC;\n",
              "    }\n",
              "\n",
              "    [theme=dark] .colab-df-convert:hover {\n",
              "      background-color: #434B5C;\n",
              "      box-shadow: 0px 1px 3px 1px rgba(0, 0, 0, 0.15);\n",
              "      filter: drop-shadow(0px 1px 2px rgba(0, 0, 0, 0.3));\n",
              "      fill: #FFFFFF;\n",
              "    }\n",
              "  </style>\n",
              "\n",
              "      <script>\n",
              "        const buttonEl =\n",
              "          document.querySelector('#df-11f64989-27f1-4150-9f49-1c9f14fe2cf5 button.colab-df-convert');\n",
              "        buttonEl.style.display =\n",
              "          google.colab.kernel.accessAllowed ? 'block' : 'none';\n",
              "\n",
              "        async function convertToInteractive(key) {\n",
              "          const element = document.querySelector('#df-11f64989-27f1-4150-9f49-1c9f14fe2cf5');\n",
              "          const dataTable =\n",
              "            await google.colab.kernel.invokeFunction('convertToInteractive',\n",
              "                                                     [key], {});\n",
              "          if (!dataTable) return;\n",
              "\n",
              "          const docLinkHtml = 'Like what you see? Visit the ' +\n",
              "            '<a target=\"_blank\" href=https://colab.research.google.com/notebooks/data_table.ipynb>data table notebook</a>'\n",
              "            + ' to learn more about interactive tables.';\n",
              "          element.innerHTML = '';\n",
              "          dataTable['output_type'] = 'display_data';\n",
              "          await google.colab.output.renderOutput(dataTable, element);\n",
              "          const docLink = document.createElement('div');\n",
              "          docLink.innerHTML = docLinkHtml;\n",
              "          element.appendChild(docLink);\n",
              "        }\n",
              "      </script>\n",
              "    </div>\n",
              "  </div>\n",
              "  "
            ]
          },
          "metadata": {},
          "execution_count": 4
        }
      ]
    },
    {
      "cell_type": "markdown",
      "source": [
        "Aunque no tenemos un diccionario de datos que nos indique que categoria de la tabla corresponde a cada país vamos a suponer que \n",
        "- 1: Japón\n",
        "- 2: America\n",
        "- 3: Europa.\n",
        "\n",
        "Vamos a Filtrar nuestro conjunto de datos y dividirlo en 3 conjuntos con el fin de obtener las estadisticas para cada región:"
      ],
      "metadata": {
        "id": "1lMgg3WoOzR_"
      }
    },
    {
      "cell_type": "code",
      "source": [
        "jap = combustible[combustible[0]==1][1].sort_values()\n",
        "ame = combustible[combustible[0]==2][1].sort_values()\n",
        "eur = combustible[combustible[0]==3][1].sort_values()"
      ],
      "metadata": {
        "id": "ycpLywMzX4wu"
      },
      "execution_count": 5,
      "outputs": []
    },
    {
      "cell_type": "markdown",
      "source": [
        "## Función\n",
        "\n",
        "Vamos a crear una función que genere estas estadisticas de forma automatica, vamos a usar las funciones predefinidas en python, pero vamos a desarrollar cada valor siguiendo el hecho de que:\n"
      ],
      "metadata": {
        "id": "T01sl141RuSL"
      }
    },
    {
      "cell_type": "code",
      "source": [
        "def est_box(df):\n",
        "  # Luego vamos a obtener la mediana del conjunto\n",
        "  M = df.median()\n",
        "\n",
        "  # Para el calculo de los cuantiles necesitamos saber si\n",
        "  # el conjunto de datos es par o impar.\n",
        "  # Obtengamos la longitud del conjunto.\n",
        "  n = len(df)\n",
        "\n",
        "  if n%2 == 0:\n",
        "      # Si el conjunto de datos es par no se toma la mediana\n",
        "      c1 = df[:(n//2)]\n",
        "      c2 = df[(n//2):]\n",
        "  else:\n",
        "      # Si el conjunto de datos es impar se incluye la mediana en ambas listas.\n",
        "      c1 = df[:(n//2)+1]\n",
        "      c2 = df[(n//2):]\n",
        "\n",
        "  # Ahora obtenemos el promedio del conjunto\n",
        "  x = df.mean()\n",
        "  # Y obtenemsos las medianas de cada uno de los conjuntos separados\n",
        "  fl = c1.median()\n",
        "  fu = c2.median()\n",
        "  # Segumos las formulas para obtener el resto de las funciones considerando la explicación\n",
        "  # anterior.\n",
        "  df_ = fu-fl\n",
        "  bl = fl-1.5*df_\n",
        "  bu = fu+1.5*df_\n",
        "\n",
        "  # Primero vamos a obtener x^*, es decir el valor maximo:\n",
        "  x_max = df[df<=bu].max()\n",
        "  # Luego vamos a obtener x_*, es decir el valor minimo:\n",
        "  x_min = df[df>=bl].min()\n",
        "\n",
        "  # Finalmnete devolvemos los datos:\n",
        "\n",
        "  print('Estadisticas:')\n",
        "  print('---------------------')\n",
        "  print(f' x_max: {x_max}\\n x_min: {x_min}\\n M: {M}\\n F_L: {fl}\\n F_U: {fu}\\n bl: {bl}\\n bu: {bu}\\n mean: {x}')"
      ],
      "metadata": {
        "id": "CWbQ6rlGSj1l"
      },
      "execution_count": 6,
      "outputs": []
    },
    {
      "cell_type": "markdown",
      "source": [
        "### Japón\n"
      ],
      "metadata": {
        "id": "-NPLSbwtZhNz"
      }
    },
    {
      "cell_type": "code",
      "source": [
        "est_box(jap)"
      ],
      "metadata": {
        "colab": {
          "base_uri": "https://localhost:8080/"
        },
        "id": "SnODLshhVPYg",
        "outputId": "7f622518-b786-4d28-cf30-af500790bc5f"
      },
      "execution_count": 7,
      "outputs": [
        {
          "output_type": "stream",
          "name": "stdout",
          "text": [
            "Estadisticas:\n",
            "---------------------\n",
            " x_max: 30\n",
            " x_min: 12\n",
            " M: 19.0\n",
            " F_L: 16.5\n",
            " F_U: 22.0\n",
            " bl: 8.25\n",
            " bu: 30.25\n",
            " mean: 19.826923076923077\n"
          ]
        }
      ]
    },
    {
      "cell_type": "code",
      "source": [
        "plt.boxplot(jap, vert=True, showmeans=True, meanline=True, labels=['Japón'])\n",
        "plt.savefig(\"1-Japon.pdf\", format=\"pdf\", bbox_inches=\"tight\")"
      ],
      "metadata": {
        "colab": {
          "base_uri": "https://localhost:8080/",
          "height": 380
        },
        "id": "da1rYsVdYbOG",
        "outputId": "28678733-fac3-4add-8c17-1c6ed1eff05a"
      },
      "execution_count": 8,
      "outputs": [
        {
          "output_type": "display_data",
          "data": {
            "text/plain": [
              "<Figure size 576x432 with 1 Axes>"
            ],
            "image/png": "[encoded data removed]"
          },
          "metadata": {}
        }
      ]
    },
    {
      "cell_type": "markdown",
      "source": [
        "## America"
      ],
      "metadata": {
        "id": "QRK4peAHyZMr"
      }
    },
    {
      "cell_type": "code",
      "source": [
        "est_box(ame)"
      ],
      "metadata": {
        "colab": {
          "base_uri": "https://localhost:8080/"
        },
        "id": "n55CdAVfWAa5",
        "outputId": "994e89f9-2de2-45f8-f0dc-ec74e6485f9b"
      },
      "execution_count": 9,
      "outputs": [
        {
          "output_type": "stream",
          "name": "stdout",
          "text": [
            "Estadisticas:\n",
            "---------------------\n",
            " x_max: 28\n",
            " x_min: 14\n",
            " M: 23.0\n",
            " F_L: 19.0\n",
            " F_U: 25.0\n",
            " bl: 10.0\n",
            " bu: 34.0\n",
            " mean: 23.545454545454547\n"
          ]
        }
      ]
    },
    {
      "cell_type": "code",
      "source": [
        "plt.boxplot(ame, vert=True, showmeans=True, meanline=True, labels=['América'])\n",
        "plt.savefig(\"1-Ame.pdf\", format=\"pdf\", bbox_inches=\"tight\")"
      ],
      "metadata": {
        "colab": {
          "base_uri": "https://localhost:8080/",
          "height": 377
        },
        "id": "QpWCWWv3ZTZ2",
        "outputId": "29bf832e-3e69-4988-941f-25132c22c857"
      },
      "execution_count": 10,
      "outputs": [
        {
          "output_type": "display_data",
          "data": {
            "text/plain": [
              "<Figure size 576x432 with 1 Axes>"
            ],
            "image/png": "[encoded data removed]"
          },
          "metadata": {}
        }
      ]
    },
    {
      "cell_type": "markdown",
      "source": [
        "## Europa"
      ],
      "metadata": {
        "id": "4ZSbiezZ00MS"
      }
    },
    {
      "cell_type": "code",
      "source": [
        "est_box(eur)"
      ],
      "metadata": {
        "colab": {
          "base_uri": "https://localhost:8080/"
        },
        "id": "r0UK9A8LX-Dh",
        "outputId": "72db12ce-4f22-434d-8be5-6cd53090ceb0"
      },
      "execution_count": 11,
      "outputs": [
        {
          "output_type": "stream",
          "name": "stdout",
          "text": [
            "Estadisticas:\n",
            "---------------------\n",
            " x_max: 35\n",
            " x_min: 18\n",
            " M: 25.0\n",
            " F_L: 22.0\n",
            " F_U: 30.5\n",
            " bl: 9.25\n",
            " bu: 43.25\n",
            " mean: 26.181818181818183\n"
          ]
        }
      ]
    },
    {
      "cell_type": "code",
      "source": [
        "plt.boxplot(eur, vert=True, showmeans=True, meanline=True, labels=['Europa'])\n",
        "plt.savefig(\"1-Eur.pdf\", format=\"pdf\", bbox_inches=\"tight\")"
      ],
      "metadata": {
        "colab": {
          "base_uri": "https://localhost:8080/",
          "height": 377
        },
        "id": "NLxpt4zzZXEp",
        "outputId": "1b074f2d-84a7-4806-cfdd-89572bcdc094"
      },
      "execution_count": 12,
      "outputs": [
        {
          "output_type": "display_data",
          "data": {
            "text/plain": [
              "<Figure size 576x432 with 1 Axes>"
            ],
            "image/png": "[encoded data removed]"
          },
          "metadata": {}
        }
      ]
    },
    {
      "cell_type": "code",
      "source": [
        "plt.figure(figsize=(15, 6))\n",
        "plt.boxplot([jap, ame, eur], vert=True, showmeans=True, meanline=True)\n",
        "\n",
        "plt.xticks([1, 2, 3], ['Japón', 'Nort. América', 'Europa'])\n",
        "plt.savefig(\"1-all.pdf\", format=\"pdf\", bbox_inches=\"tight\")"
      ],
      "metadata": {
        "colab": {
          "base_uri": "https://localhost:8080/",
          "height": 433
        },
        "id": "XrGlpW6fV91F",
        "outputId": "b83cea6c-2636-4bb4-89c0-493ac79183d8"
      },
      "execution_count": 13,
      "outputs": [
        {
          "output_type": "stream",
          "name": "stderr",
          "text": [
            "/usr/local/lib/python3.7/dist-packages/matplotlib/cbook/__init__.py:1376: VisibleDeprecationWarning: Creating an ndarray from ragged nested sequences (which is a list-or-tuple of lists-or-tuples-or ndarrays with different lengths or shapes) is deprecated. If you meant to do this, you must specify 'dtype=object' when creating the ndarray.\n",
            "  X = np.atleast_1d(X.T if isinstance(X, np.ndarray) else np.asarray(X))\n"
          ]
        },
        {
          "output_type": "display_data",
          "data": {
            "text/plain": [
              "<Figure size 1080x432 with 1 Axes>"
            ],
            "image/png": "[encoded data removed]"
          },
          "metadata": {}
        }
      ]
    },
    {
      "cell_type": "markdown",
      "source": [
        "## Ejercicio 2\n",
        "\n",
        "- Producir un diagrama de cajas pára los dos grupos: billetes genuinos y billetes falsos usondo la componente $X_1$ de $\\mathbb{X}$.\n",
        "- Calcular las estadíticas M,Fu, $F_L$ $b_u, b_2, x_*$ y $x^*$ para los dos grupos usendo la componente $X_6$.\n",
        "- Comentar y comparar los dos análisis: Las cajas para $x_1$ y las cajos para $x_6$"
      ],
      "metadata": {
        "id": "esJQ__ZB8KFJ"
      }
    },
    {
      "cell_type": "markdown",
      "source": [
        "Vamos a hacer la lectura de los datos:"
      ],
      "metadata": {
        "id": "whkPQ1KpadkW"
      }
    },
    {
      "cell_type": "code",
      "source": [
        "billetes = pd.read_csv('/content/drive/MyDrive/Universidad/Ciencia de Datos/7mo Semestre/2023_1-Analisis_Multivariado/Ejercicios/E1/SwissBank 1.txt', sep=\"\\t\",header=None)"
      ],
      "metadata": {
        "id": "c_qEiaRX1F05"
      },
      "execution_count": 14,
      "outputs": []
    },
    {
      "cell_type": "code",
      "source": [
        "billetes"
      ],
      "metadata": {
        "colab": {
          "base_uri": "https://localhost:8080/",
          "height": 424
        },
        "id": "pYpJ8RHo8W2_",
        "outputId": "7c984fc2-6992-4b2b-a5ba-c944235acd42"
      },
      "execution_count": 15,
      "outputs": [
        {
          "output_type": "execute_result",
          "data": {
            "text/plain": [
              "         0      1      2     3     4      5\n",
              "0    214.8  131.0  131.1   9.0   9.7  141.0\n",
              "1    214.6  129.7  129.7   8.1   9.5  141.7\n",
              "2    214.8  129.7  129.7   8.7   9.6  142.2\n",
              "3    214.8  129.7  129.6   7.5  10.4  142.0\n",
              "4    215.0  129.6  129.7  10.4   7.7  141.8\n",
              "..     ...    ...    ...   ...   ...    ...\n",
              "195  215.0  130.4  130.3   9.9  12.1  139.6\n",
              "196  215.1  130.3  129.9  10.3  11.5  139.7\n",
              "197  214.8  130.3  130.4  10.6  11.1  140.0\n",
              "198  214.7  130.7  130.8  11.2  11.2  139.4\n",
              "199  214.3  129.9  129.9  10.2  11.5  139.6\n",
              "\n",
              "[200 rows x 6 columns]"
            ],
            "text/html": [
              "\n",
              "  <div id=\"df-292b7ef9-dc36-4c09-82ac-24d4353258d5\">\n",
              "    <div class=\"colab-df-container\">\n",
              "      <div>\n",
              "<style scoped>\n",
              "    .dataframe tbody tr th:only-of-type {\n",
              "        vertical-align: middle;\n",
              "    }\n",
              "\n",
              "    .dataframe tbody tr th {\n",
              "        vertical-align: top;\n",
              "    }\n",
              "\n",
              "    .dataframe thead th {\n",
              "        text-align: right;\n",
              "    }\n",
              "</style>\n",
              "<table border=\"1\" class=\"dataframe\">\n",
              "  <thead>\n",
              "    <tr style=\"text-align: right;\">\n",
              "      <th></th>\n",
              "      <th>0</th>\n",
              "      <th>1</th>\n",
              "      <th>2</th>\n",
              "      <th>3</th>\n",
              "      <th>4</th>\n",
              "      <th>5</th>\n",
              "    </tr>\n",
              "  </thead>\n",
              "  <tbody>\n",
              "    <tr>\n",
              "      <th>0</th>\n",
              "      <td>214.8</td>\n",
              "      <td>131.0</td>\n",
              "      <td>131.1</td>\n",
              "      <td>9.0</td>\n",
              "      <td>9.7</td>\n",
              "      <td>141.0</td>\n",
              "    </tr>\n",
              "    <tr>\n",
              "      <th>1</th>\n",
              "      <td>214.6</td>\n",
              "      <td>129.7</td>\n",
              "      <td>129.7</td>\n",
              "      <td>8.1</td>\n",
              "      <td>9.5</td>\n",
              "      <td>141.7</td>\n",
              "    </tr>\n",
              "    <tr>\n",
              "      <th>2</th>\n",
              "      <td>214.8</td>\n",
              "      <td>129.7</td>\n",
              "      <td>129.7</td>\n",
              "      <td>8.7</td>\n",
              "      <td>9.6</td>\n",
              "      <td>142.2</td>\n",
              "    </tr>\n",
              "    <tr>\n",
              "      <th>3</th>\n",
              "      <td>214.8</td>\n",
              "      <td>129.7</td>\n",
              "      <td>129.6</td>\n",
              "      <td>7.5</td>\n",
              "      <td>10.4</td>\n",
              "      <td>142.0</td>\n",
              "    </tr>\n",
              "    <tr>\n",
              "      <th>4</th>\n",
              "      <td>215.0</td>\n",
              "      <td>129.6</td>\n",
              "      <td>129.7</td>\n",
              "      <td>10.4</td>\n",
              "      <td>7.7</td>\n",
              "      <td>141.8</td>\n",
              "    </tr>\n",
              "    <tr>\n",
              "      <th>...</th>\n",
              "      <td>...</td>\n",
              "      <td>...</td>\n",
              "      <td>...</td>\n",
              "      <td>...</td>\n",
              "      <td>...</td>\n",
              "      <td>...</td>\n",
              "    </tr>\n",
              "    <tr>\n",
              "      <th>195</th>\n",
              "      <td>215.0</td>\n",
              "      <td>130.4</td>\n",
              "      <td>130.3</td>\n",
              "      <td>9.9</td>\n",
              "      <td>12.1</td>\n",
              "      <td>139.6</td>\n",
              "    </tr>\n",
              "    <tr>\n",
              "      <th>196</th>\n",
              "      <td>215.1</td>\n",
              "      <td>130.3</td>\n",
              "      <td>129.9</td>\n",
              "      <td>10.3</td>\n",
              "      <td>11.5</td>\n",
              "      <td>139.7</td>\n",
              "    </tr>\n",
              "    <tr>\n",
              "      <th>197</th>\n",
              "      <td>214.8</td>\n",
              "      <td>130.3</td>\n",
              "      <td>130.4</td>\n",
              "      <td>10.6</td>\n",
              "      <td>11.1</td>\n",
              "      <td>140.0</td>\n",
              "    </tr>\n",
              "    <tr>\n",
              "      <th>198</th>\n",
              "      <td>214.7</td>\n",
              "      <td>130.7</td>\n",
              "      <td>130.8</td>\n",
              "      <td>11.2</td>\n",
              "      <td>11.2</td>\n",
              "      <td>139.4</td>\n",
              "    </tr>\n",
              "    <tr>\n",
              "      <th>199</th>\n",
              "      <td>214.3</td>\n",
              "      <td>129.9</td>\n",
              "      <td>129.9</td>\n",
              "      <td>10.2</td>\n",
              "      <td>11.5</td>\n",
              "      <td>139.6</td>\n",
              "    </tr>\n",
              "  </tbody>\n",
              "</table>\n",
              "<p>200 rows × 6 columns</p>\n",
              "</div>\n",
              "      <button class=\"colab-df-convert\" onclick=\"convertToInteractive('df-292b7ef9-dc36-4c09-82ac-24d4353258d5')\"\n",
              "              title=\"Convert this dataframe to an interactive table.\"\n",
              "              style=\"display:none;\">\n",
              "        \n",
              "  <svg xmlns=\"http://www.w3.org/2000/svg\" height=\"24px\"viewBox=\"0 0 24 24\"\n",
              "       width=\"24px\">\n",
              "    <path d=\"M0 0h24v24H0V0z\" fill=\"none\"/>\n",
              "    <path d=\"M18.56 5.44l.94 2.06.94-2.06 2.06-.94-2.06-.94-.94-2.06-.94 2.06-2.06.94zm-11 1L8.5 8.5l.94-2.06 2.06-.94-2.06-.94L8.5 2.5l-.94 2.06-2.06.94zm10 10l.94 2.06.94-2.06 2.06-.94-2.06-.94-.94-2.06-.94 2.06-2.06.94z\"/><path d=\"M17.41 7.96l-1.37-1.37c-.4-.4-.92-.59-1.43-.59-.52 0-1.04.2-1.43.59L10.3 9.45l-7.72 7.72c-.78.78-.78 2.05 0 2.83L4 21.41c.39.39.9.59 1.41.59.51 0 1.02-.2 1.41-.59l7.78-7.78 2.81-2.81c.8-.78.8-2.07 0-2.86zM5.41 20L4 18.59l7.72-7.72 1.47 1.35L5.41 20z\"/>\n",
              "  </svg>\n",
              "      </button>\n",
              "      \n",
              "  <style>\n",
              "    .colab-df-container {\n",
              "      display:flex;\n",
              "      flex-wrap:wrap;\n",
              "      gap: 12px;\n",
              "    }\n",
              "\n",
              "    .colab-df-convert {\n",
              "      background-color: #E8F0FE;\n",
              "      border: none;\n",
              "      border-radius: 50%;\n",
              "      cursor: pointer;\n",
              "      display: none;\n",
              "      fill: #1967D2;\n",
              "      height: 32px;\n",
              "      padding: 0 0 0 0;\n",
              "      width: 32px;\n",
              "    }\n",
              "\n",
              "    .colab-df-convert:hover {\n",
              "      background-color: #E2EBFA;\n",
              "      box-shadow: 0px 1px 2px rgba(60, 64, 67, 0.3), 0px 1px 3px 1px rgba(60, 64, 67, 0.15);\n",
              "      fill: #174EA6;\n",
              "    }\n",
              "\n",
              "    [theme=dark] .colab-df-convert {\n",
              "      background-color: #3B4455;\n",
              "      fill: #D2E3FC;\n",
              "    }\n",
              "\n",
              "    [theme=dark] .colab-df-convert:hover {\n",
              "      background-color: #434B5C;\n",
              "      box-shadow: 0px 1px 3px 1px rgba(0, 0, 0, 0.15);\n",
              "      filter: drop-shadow(0px 1px 2px rgba(0, 0, 0, 0.3));\n",
              "      fill: #FFFFFF;\n",
              "    }\n",
              "  </style>\n",
              "\n",
              "      <script>\n",
              "        const buttonEl =\n",
              "          document.querySelector('#df-292b7ef9-dc36-4c09-82ac-24d4353258d5 button.colab-df-convert');\n",
              "        buttonEl.style.display =\n",
              "          google.colab.kernel.accessAllowed ? 'block' : 'none';\n",
              "\n",
              "        async function convertToInteractive(key) {\n",
              "          const element = document.querySelector('#df-292b7ef9-dc36-4c09-82ac-24d4353258d5');\n",
              "          const dataTable =\n",
              "            await google.colab.kernel.invokeFunction('convertToInteractive',\n",
              "                                                     [key], {});\n",
              "          if (!dataTable) return;\n",
              "\n",
              "          const docLinkHtml = 'Like what you see? Visit the ' +\n",
              "            '<a target=\"_blank\" href=https://colab.research.google.com/notebooks/data_table.ipynb>data table notebook</a>'\n",
              "            + ' to learn more about interactive tables.';\n",
              "          element.innerHTML = '';\n",
              "          dataTable['output_type'] = 'display_data';\n",
              "          await google.colab.output.renderOutput(dataTable, element);\n",
              "          const docLink = document.createElement('div');\n",
              "          docLink.innerHTML = docLinkHtml;\n",
              "          element.appendChild(docLink);\n",
              "        }\n",
              "      </script>\n",
              "    </div>\n",
              "  </div>\n",
              "  "
            ]
          },
          "metadata": {},
          "execution_count": 15
        }
      ]
    },
    {
      "cell_type": "markdown",
      "source": [
        "Vamos a hacer una división de los conjuntos, de acuerdo a la descripción del problema en el libro, los primero 100 registros del conjunto de datos corrresponden a los billetes genuinos, y los otros 100 registros son de billetes falsos."
      ],
      "metadata": {
        "id": "boCLyayQbmKS"
      }
    },
    {
      "cell_type": "code",
      "source": [
        "billetes_v = billetes[0:100]\n",
        "billetes_f = billetes[100:200]"
      ],
      "metadata": {
        "id": "ZJgwNn_YkuKc"
      },
      "execution_count": 16,
      "outputs": []
    },
    {
      "cell_type": "markdown",
      "source": [
        "La variable X1 es la que mide el largo del billete, para cada subconjunto de billetes vamos a hacer la selección y vamos a gráficar las gráficas de cajas."
      ],
      "metadata": {
        "id": "lKO0LJrRkWjW"
      }
    },
    {
      "cell_type": "code",
      "source": [
        "# X1 = Largo del billete.\n",
        "x1_v = billetes_v[0]\n",
        "x1_f = billetes_f[0]"
      ],
      "metadata": {
        "id": "XNVoDvV58XwQ"
      },
      "execution_count": 17,
      "outputs": []
    },
    {
      "cell_type": "code",
      "source": [
        "plt.boxplot([x1_v, x1_f], vert=True, showmeans=True, meanline=True, meanprops={'color': 'tab:green'})\n",
        "plt.xticks([1, 2], ['Genuinos', 'Falsos'])\n",
        "plt.savefig(\"2-x1.pdf\", format=\"pdf\", bbox_inches=\"tight\")"
      ],
      "metadata": {
        "id": "cABci1Ft_CLX",
        "colab": {
          "base_uri": "https://localhost:8080/",
          "height": 377
        },
        "outputId": "e09d8635-f60e-4086-b834-46e3cacde53b"
      },
      "execution_count": 18,
      "outputs": [
        {
          "output_type": "display_data",
          "data": {
            "text/plain": [
              "<Figure size 576x432 with 1 Axes>"
            ],
            "image/png": "[encoded data removed]"
          },
          "metadata": {}
        }
      ]
    },
    {
      "cell_type": "markdown",
      "source": [
        "Vamos a extraer la componenete X6, que mide la longitud de la Diagonal, y con la función antes definida vamos a obtener las estadisticas. Para fines de exploración vamos a gráficar las cajas para cada conjunto."
      ],
      "metadata": {
        "id": "GOMxRAeChRN3"
      }
    },
    {
      "cell_type": "code",
      "source": [
        "# X1 = Diagonal del billete\n",
        "x6_v = billetes_v[5]\n",
        "x6_f = billetes_f[5]\n",
        "\n",
        "plt.boxplot ([x6_v, x6_f], vert=True, showmeans=True, meanline=True, meanprops={'color': 'tab:green'})\n",
        "plt.xticks([1, 2], ['Genuinos', 'Falsos'])\n",
        "plt.savefig(\"2-x6.pdf\", format=\"pdf\", bbox_inches=\"tight\")"
      ],
      "metadata": {
        "colab": {
          "base_uri": "https://localhost:8080/",
          "height": 377
        },
        "id": "-cPe8QrjegM7",
        "outputId": "3ea11ba6-1ea6-41dc-e5f6-bec014732eef"
      },
      "execution_count": 19,
      "outputs": [
        {
          "output_type": "display_data",
          "data": {
            "text/plain": [
              "<Figure size 576x432 with 1 Axes>"
            ],
            "image/png": "[encoded data removed]"
          },
          "metadata": {}
        }
      ]
    },
    {
      "cell_type": "code",
      "source": [
        "est_box(x6_v)"
      ],
      "metadata": {
        "colab": {
          "base_uri": "https://localhost:8080/"
        },
        "id": "scgJwjluiyFJ",
        "outputId": "7d71472f-f88a-459a-d6dd-be246cf4864f"
      },
      "execution_count": 20,
      "outputs": [
        {
          "output_type": "stream",
          "name": "stdout",
          "text": [
            "Estadisticas:\n",
            "---------------------\n",
            " x_max: 140.9\n",
            " x_min: 142.2\n",
            " M: 141.5\n",
            " F_L: 141.7\n",
            " F_U: 141.4\n",
            " bl: 142.14999999999998\n",
            " bu: 140.95000000000005\n",
            " mean: 141.51700000000002\n"
          ]
        }
      ]
    },
    {
      "cell_type": "code",
      "source": [
        "est_box(x6_f)"
      ],
      "metadata": {
        "colab": {
          "base_uri": "https://localhost:8080/"
        },
        "id": "qpkqRX1Si1Fa",
        "outputId": "4d2a5eac-2f48-4172-ab1d-2c1452006973"
      },
      "execution_count": 21,
      "outputs": [
        {
          "output_type": "stream",
          "name": "stdout",
          "text": [
            "Estadisticas:\n",
            "---------------------\n",
            " x_max: 138.6\n",
            " x_min: 140.6\n",
            " M: 139.5\n",
            " F_L: 139.8\n",
            " F_U: 139.35000000000002\n",
            " bl: 140.475\n",
            " bu: 138.67500000000004\n",
            " mean: 139.45\n"
          ]
        }
      ]
    },
    {
      "cell_type": "markdown",
      "source": [
        "# Ejercicio 3\n",
        "\n",
        "Haga un resumen respecto a como foncionan los histogramas y las estimaciones de la densidad para mos datos. Explique con cuidado qué es lo que los paquetes dibujan y describa un ejemplo con datos."
      ],
      "metadata": {
        "id": "hEHtjkihiszU"
      }
    },
    {
      "cell_type": "code",
      "source": [
        "datos = np.random.normal(1.60, 0.2, 50)"
      ],
      "metadata": {
        "id": "KClNY3EkhfJM"
      },
      "execution_count": 22,
      "outputs": []
    },
    {
      "cell_type": "code",
      "source": [
        "datos"
      ],
      "metadata": {
        "colab": {
          "base_uri": "https://localhost:8080/"
        },
        "id": "d7wC4Buk2r7C",
        "outputId": "04a00bc2-8130-4ed6-b80f-507e66e38593"
      },
      "execution_count": 23,
      "outputs": [
        {
          "output_type": "execute_result",
          "data": {
            "text/plain": [
              "array([1.6916736 , 1.6271499 , 1.47974147, 1.47879345, 1.69239924,\n",
              "       2.12905905, 1.08101752, 1.70052984, 1.62328256, 1.86620012,\n",
              "       1.43085026, 1.23991665, 1.43771453, 1.78796002, 1.6681953 ,\n",
              "       1.55087009, 1.6792272 , 1.43574124, 1.19451313, 1.26493015,\n",
              "       2.30469552, 1.51774583, 1.68679034, 1.33852416, 1.88013462,\n",
              "       1.35022992, 1.56511657, 1.79711511, 1.36601834, 1.46980876,\n",
              "       1.42664279, 1.83261844, 1.36314677, 1.87578272, 1.64174051,\n",
              "       1.88090284, 1.81586954, 2.07402966, 1.69613775, 1.61827369,\n",
              "       1.74008582, 1.53850569, 1.7404805 , 1.7162829 , 1.55288209,\n",
              "       1.78242568, 1.70658963, 1.94528541, 1.98418505, 1.59885702])"
            ]
          },
          "metadata": {},
          "execution_count": 23
        }
      ]
    },
    {
      "cell_type": "code",
      "source": [
        "max(datos)"
      ],
      "metadata": {
        "colab": {
          "base_uri": "https://localhost:8080/"
        },
        "id": "q-yMjwJc44v1",
        "outputId": "27872cbf-ded1-499a-d5ce-ecba2da6fca2"
      },
      "execution_count": 24,
      "outputs": [
        {
          "output_type": "execute_result",
          "data": {
            "text/plain": [
              "2.3046955238466467"
            ]
          },
          "metadata": {},
          "execution_count": 24
        }
      ]
    },
    {
      "cell_type": "code",
      "source": [
        "min(datos)"
      ],
      "metadata": {
        "colab": {
          "base_uri": "https://localhost:8080/"
        },
        "id": "CeLYnlkT5F7D",
        "outputId": "0f882255-8d29-424b-ed3c-bdbf65a09e48"
      },
      "execution_count": 25,
      "outputs": [
        {
          "output_type": "execute_result",
          "data": {
            "text/plain": [
              "1.0810175197117777"
            ]
          },
          "metadata": {},
          "execution_count": 25
        }
      ]
    },
    {
      "cell_type": "code",
      "source": [
        "max(datos) - min(datos)"
      ],
      "metadata": {
        "colab": {
          "base_uri": "https://localhost:8080/"
        },
        "id": "Y7x_MLcB9v24",
        "outputId": "b44ebe5c-b4b5-4311-ddbb-9e2ed7457aa2"
      },
      "execution_count": 26,
      "outputs": [
        {
          "output_type": "execute_result",
          "data": {
            "text/plain": [
              "1.223678004134869"
            ]
          },
          "metadata": {},
          "execution_count": 26
        }
      ]
    },
    {
      "cell_type": "code",
      "source": [
        "np.sqrt(50)"
      ],
      "metadata": {
        "colab": {
          "base_uri": "https://localhost:8080/"
        },
        "id": "7qAPmICp_YHO",
        "outputId": "d75d8601-0255-495b-ead5-5cd4d88395c8"
      },
      "execution_count": 27,
      "outputs": [
        {
          "output_type": "execute_result",
          "data": {
            "text/plain": [
              "7.0710678118654755"
            ]
          },
          "metadata": {},
          "execution_count": 27
        }
      ]
    },
    {
      "cell_type": "code",
      "source": [
        "(max(datos) - min(datos))/7"
      ],
      "metadata": {
        "colab": {
          "base_uri": "https://localhost:8080/"
        },
        "id": "jr9jIfbrCIEw",
        "outputId": "0d973653-7298-4283-b857-dc3af1269917"
      },
      "execution_count": 28,
      "outputs": [
        {
          "output_type": "execute_result",
          "data": {
            "text/plain": [
              "0.1748111434478384"
            ]
          },
          "metadata": {},
          "execution_count": 28
        }
      ]
    },
    {
      "cell_type": "code",
      "source": [
        "sns.histplot(data=datos, bins = 7)\n",
        "plt.savefig(\"3-hist.pdf\", format=\"pdf\", bbox_inches=\"tight\")"
      ],
      "metadata": {
        "colab": {
          "base_uri": "https://localhost:8080/",
          "height": 377
        },
        "id": "DSuy7zT2-kx1",
        "outputId": "414021c0-5f7d-4846-e42b-369e54ec1b5a"
      },
      "execution_count": 29,
      "outputs": [
        {
          "output_type": "display_data",
          "data": {
            "text/plain": [
              "<Figure size 576x432 with 1 Axes>"
            ],
            "image/png": "[encoded data removed]"
          },
          "metadata": {}
        }
      ]
    },
    {
      "cell_type": "code",
      "source": [
        "sns.kdeplot(data=datos)\n",
        "plt.savefig(\"3-den.pdf\", format=\"pdf\", bbox_inches=\"tight\")"
      ],
      "metadata": {
        "colab": {
          "base_uri": "https://localhost:8080/",
          "height": 377
        },
        "id": "BsVenS5aNog9",
        "outputId": "a5834001-620f-46a4-a30a-8d95ff0ef829"
      },
      "execution_count": 54,
      "outputs": [
        {
          "output_type": "display_data",
          "data": {
            "text/plain": [
              "<Figure size 576x432 with 1 Axes>"
            ],
            "image/png": "[encoded data removed]"
          },
          "metadata": {}
        }
      ]
    },
    {
      "cell_type": "markdown",
      "source": [
        "# Ejercicio 4\n",
        "\n",
        "Ejercicio: Calcular de nuevo las componentes pero usando un reescalamiento de los datos $\\widetilde{X}$. Por ejerplo si se asume que las variables $x_1, x_2, x_3$ y $x_6$ foeron medidas en cms. Y que $X_4 y_5 X_5$ se quedam cano estaban originalmente, o sed en escala de $\\mathrm{mm}$., esto serid equivalente a re-escalar $\\widetilde{x}_1=\\frac{x_1}{10} ; \\widetilde{x}_2=\\frac{x_2}{10}; \\widetilde{x}_3=\\frac{x_3}{10} y$\n",
        "$\\widetilde{x_6}=\\frac{x_6}{10}$ y use le matriz de datos $\\tilde{\\chi}$.\n",
        "\n",
        "compare sus resoltados con la Figura $C$ Cobtenida al calcular las componentes principcles usdndo los datos origindes sin ningún re-escalamiento), ¿Qué se observa?\n",
        "\n"
      ],
      "metadata": {
        "id": "K4IuuPcsk9Uz"
      }
    },
    {
      "cell_type": "code",
      "source": [
        "billetes = pd.read_csv('/content/drive/MyDrive/Universidad/Ciencia de Datos/7mo Semestre/2023_1-Analisis_Multivariado/Ejercicios/E1/SwissBank 1.txt', sep=\"\\t\",header=None)"
      ],
      "metadata": {
        "id": "vg8sPCs4odWf"
      },
      "execution_count": 31,
      "outputs": []
    },
    {
      "cell_type": "code",
      "source": [
        "billetes_norm = billetes.copy()\n",
        "billetes_norm[0] = billetes[0]/10\n",
        "billetes_norm[1] = billetes[1]/10\n",
        "billetes_norm[2] = billetes[2]/10\n",
        "billetes_norm[5] = billetes[5]/10\n",
        "\n",
        "billetes_norm"
      ],
      "metadata": {
        "colab": {
          "base_uri": "https://localhost:8080/",
          "height": 424
        },
        "id": "y0gI9lS8rLzH",
        "outputId": "c9878faa-c777-4b77-9851-f0fd0c2511e4"
      },
      "execution_count": 32,
      "outputs": [
        {
          "output_type": "execute_result",
          "data": {
            "text/plain": [
              "         0      1      2     3     4      5\n",
              "0    21.48  13.10  13.11   9.0   9.7  14.10\n",
              "1    21.46  12.97  12.97   8.1   9.5  14.17\n",
              "2    21.48  12.97  12.97   8.7   9.6  14.22\n",
              "3    21.48  12.97  12.96   7.5  10.4  14.20\n",
              "4    21.50  12.96  12.97  10.4   7.7  14.18\n",
              "..     ...    ...    ...   ...   ...    ...\n",
              "195  21.50  13.04  13.03   9.9  12.1  13.96\n",
              "196  21.51  13.03  12.99  10.3  11.5  13.97\n",
              "197  21.48  13.03  13.04  10.6  11.1  14.00\n",
              "198  21.47  13.07  13.08  11.2  11.2  13.94\n",
              "199  21.43  12.99  12.99  10.2  11.5  13.96\n",
              "\n",
              "[200 rows x 6 columns]"
            ],
            "text/html": [
              "\n",
              "  <div id=\"df-114b250e-4724-4783-9677-90637f7485d9\">\n",
              "    <div class=\"colab-df-container\">\n",
              "      <div>\n",
              "<style scoped>\n",
              "    .dataframe tbody tr th:only-of-type {\n",
              "        vertical-align: middle;\n",
              "    }\n",
              "\n",
              "    .dataframe tbody tr th {\n",
              "        vertical-align: top;\n",
              "    }\n",
              "\n",
              "    .dataframe thead th {\n",
              "        text-align: right;\n",
              "    }\n",
              "</style>\n",
              "<table border=\"1\" class=\"dataframe\">\n",
              "  <thead>\n",
              "    <tr style=\"text-align: right;\">\n",
              "      <th></th>\n",
              "      <th>0</th>\n",
              "      <th>1</th>\n",
              "      <th>2</th>\n",
              "      <th>3</th>\n",
              "      <th>4</th>\n",
              "      <th>5</th>\n",
              "    </tr>\n",
              "  </thead>\n",
              "  <tbody>\n",
              "    <tr>\n",
              "      <th>0</th>\n",
              "      <td>21.48</td>\n",
              "      <td>13.10</td>\n",
              "      <td>13.11</td>\n",
              "      <td>9.0</td>\n",
              "      <td>9.7</td>\n",
              "      <td>14.10</td>\n",
              "    </tr>\n",
              "    <tr>\n",
              "      <th>1</th>\n",
              "      <td>21.46</td>\n",
              "      <td>12.97</td>\n",
              "      <td>12.97</td>\n",
              "      <td>8.1</td>\n",
              "      <td>9.5</td>\n",
              "      <td>14.17</td>\n",
              "    </tr>\n",
              "    <tr>\n",
              "      <th>2</th>\n",
              "      <td>21.48</td>\n",
              "      <td>12.97</td>\n",
              "      <td>12.97</td>\n",
              "      <td>8.7</td>\n",
              "      <td>9.6</td>\n",
              "      <td>14.22</td>\n",
              "    </tr>\n",
              "    <tr>\n",
              "      <th>3</th>\n",
              "      <td>21.48</td>\n",
              "      <td>12.97</td>\n",
              "      <td>12.96</td>\n",
              "      <td>7.5</td>\n",
              "      <td>10.4</td>\n",
              "      <td>14.20</td>\n",
              "    </tr>\n",
              "    <tr>\n",
              "      <th>4</th>\n",
              "      <td>21.50</td>\n",
              "      <td>12.96</td>\n",
              "      <td>12.97</td>\n",
              "      <td>10.4</td>\n",
              "      <td>7.7</td>\n",
              "      <td>14.18</td>\n",
              "    </tr>\n",
              "    <tr>\n",
              "      <th>...</th>\n",
              "      <td>...</td>\n",
              "      <td>...</td>\n",
              "      <td>...</td>\n",
              "      <td>...</td>\n",
              "      <td>...</td>\n",
              "      <td>...</td>\n",
              "    </tr>\n",
              "    <tr>\n",
              "      <th>195</th>\n",
              "      <td>21.50</td>\n",
              "      <td>13.04</td>\n",
              "      <td>13.03</td>\n",
              "      <td>9.9</td>\n",
              "      <td>12.1</td>\n",
              "      <td>13.96</td>\n",
              "    </tr>\n",
              "    <tr>\n",
              "      <th>196</th>\n",
              "      <td>21.51</td>\n",
              "      <td>13.03</td>\n",
              "      <td>12.99</td>\n",
              "      <td>10.3</td>\n",
              "      <td>11.5</td>\n",
              "      <td>13.97</td>\n",
              "    </tr>\n",
              "    <tr>\n",
              "      <th>197</th>\n",
              "      <td>21.48</td>\n",
              "      <td>13.03</td>\n",
              "      <td>13.04</td>\n",
              "      <td>10.6</td>\n",
              "      <td>11.1</td>\n",
              "      <td>14.00</td>\n",
              "    </tr>\n",
              "    <tr>\n",
              "      <th>198</th>\n",
              "      <td>21.47</td>\n",
              "      <td>13.07</td>\n",
              "      <td>13.08</td>\n",
              "      <td>11.2</td>\n",
              "      <td>11.2</td>\n",
              "      <td>13.94</td>\n",
              "    </tr>\n",
              "    <tr>\n",
              "      <th>199</th>\n",
              "      <td>21.43</td>\n",
              "      <td>12.99</td>\n",
              "      <td>12.99</td>\n",
              "      <td>10.2</td>\n",
              "      <td>11.5</td>\n",
              "      <td>13.96</td>\n",
              "    </tr>\n",
              "  </tbody>\n",
              "</table>\n",
              "<p>200 rows × 6 columns</p>\n",
              "</div>\n",
              "      <button class=\"colab-df-convert\" onclick=\"convertToInteractive('df-114b250e-4724-4783-9677-90637f7485d9')\"\n",
              "              title=\"Convert this dataframe to an interactive table.\"\n",
              "              style=\"display:none;\">\n",
              "        \n",
              "  <svg xmlns=\"http://www.w3.org/2000/svg\" height=\"24px\"viewBox=\"0 0 24 24\"\n",
              "       width=\"24px\">\n",
              "    <path d=\"M0 0h24v24H0V0z\" fill=\"none\"/>\n",
              "    <path d=\"M18.56 5.44l.94 2.06.94-2.06 2.06-.94-2.06-.94-.94-2.06-.94 2.06-2.06.94zm-11 1L8.5 8.5l.94-2.06 2.06-.94-2.06-.94L8.5 2.5l-.94 2.06-2.06.94zm10 10l.94 2.06.94-2.06 2.06-.94-2.06-.94-.94-2.06-.94 2.06-2.06.94z\"/><path d=\"M17.41 7.96l-1.37-1.37c-.4-.4-.92-.59-1.43-.59-.52 0-1.04.2-1.43.59L10.3 9.45l-7.72 7.72c-.78.78-.78 2.05 0 2.83L4 21.41c.39.39.9.59 1.41.59.51 0 1.02-.2 1.41-.59l7.78-7.78 2.81-2.81c.8-.78.8-2.07 0-2.86zM5.41 20L4 18.59l7.72-7.72 1.47 1.35L5.41 20z\"/>\n",
              "  </svg>\n",
              "      </button>\n",
              "      \n",
              "  <style>\n",
              "    .colab-df-container {\n",
              "      display:flex;\n",
              "      flex-wrap:wrap;\n",
              "      gap: 12px;\n",
              "    }\n",
              "\n",
              "    .colab-df-convert {\n",
              "      background-color: #E8F0FE;\n",
              "      border: none;\n",
              "      border-radius: 50%;\n",
              "      cursor: pointer;\n",
              "      display: none;\n",
              "      fill: #1967D2;\n",
              "      height: 32px;\n",
              "      padding: 0 0 0 0;\n",
              "      width: 32px;\n",
              "    }\n",
              "\n",
              "    .colab-df-convert:hover {\n",
              "      background-color: #E2EBFA;\n",
              "      box-shadow: 0px 1px 2px rgba(60, 64, 67, 0.3), 0px 1px 3px 1px rgba(60, 64, 67, 0.15);\n",
              "      fill: #174EA6;\n",
              "    }\n",
              "\n",
              "    [theme=dark] .colab-df-convert {\n",
              "      background-color: #3B4455;\n",
              "      fill: #D2E3FC;\n",
              "    }\n",
              "\n",
              "    [theme=dark] .colab-df-convert:hover {\n",
              "      background-color: #434B5C;\n",
              "      box-shadow: 0px 1px 3px 1px rgba(0, 0, 0, 0.15);\n",
              "      filter: drop-shadow(0px 1px 2px rgba(0, 0, 0, 0.3));\n",
              "      fill: #FFFFFF;\n",
              "    }\n",
              "  </style>\n",
              "\n",
              "      <script>\n",
              "        const buttonEl =\n",
              "          document.querySelector('#df-114b250e-4724-4783-9677-90637f7485d9 button.colab-df-convert');\n",
              "        buttonEl.style.display =\n",
              "          google.colab.kernel.accessAllowed ? 'block' : 'none';\n",
              "\n",
              "        async function convertToInteractive(key) {\n",
              "          const element = document.querySelector('#df-114b250e-4724-4783-9677-90637f7485d9');\n",
              "          const dataTable =\n",
              "            await google.colab.kernel.invokeFunction('convertToInteractive',\n",
              "                                                     [key], {});\n",
              "          if (!dataTable) return;\n",
              "\n",
              "          const docLinkHtml = 'Like what you see? Visit the ' +\n",
              "            '<a target=\"_blank\" href=https://colab.research.google.com/notebooks/data_table.ipynb>data table notebook</a>'\n",
              "            + ' to learn more about interactive tables.';\n",
              "          element.innerHTML = '';\n",
              "          dataTable['output_type'] = 'display_data';\n",
              "          await google.colab.output.renderOutput(dataTable, element);\n",
              "          const docLink = document.createElement('div');\n",
              "          docLink.innerHTML = docLinkHtml;\n",
              "          element.appendChild(docLink);\n",
              "        }\n",
              "      </script>\n",
              "    </div>\n",
              "  </div>\n",
              "  "
            ]
          },
          "metadata": {},
          "execution_count": 32
        }
      ]
    },
    {
      "cell_type": "markdown",
      "source": [
        "Calculo de componenetes:"
      ],
      "metadata": {
        "id": "2ObfF1lJreWE"
      }
    },
    {
      "cell_type": "markdown",
      "source": [
        "$$\\bar{x}_{(n)}=\\frac{1}{n} \\chi^{\\prime} \\mathbb{I}_n$$"
      ],
      "metadata": {
        "id": "PPaNbwOcssmC"
      }
    },
    {
      "cell_type": "code",
      "source": [
        "mean_vector = np.array([billetes_norm.mean(axis=0).values]).T"
      ],
      "metadata": {
        "id": "r0zq6cp-rPYC"
      },
      "execution_count": 33,
      "outputs": []
    },
    {
      "cell_type": "code",
      "source": [
        "mean_vector"
      ],
      "metadata": {
        "colab": {
          "base_uri": "https://localhost:8080/"
        },
        "id": "P6t8yZNYrkP4",
        "outputId": "938e4d72-5311-4a54-f8da-bdb50e037608"
      },
      "execution_count": 34,
      "outputs": [
        {
          "output_type": "execute_result",
          "data": {
            "text/plain": [
              "array([[21.4896 ],\n",
              "       [13.01215],\n",
              "       [12.99565],\n",
              "       [ 9.4175 ],\n",
              "       [10.6505 ],\n",
              "       [14.04835]])"
            ]
          },
          "metadata": {},
          "execution_count": 34
        }
      ]
    },
    {
      "cell_type": "markdown",
      "source": [
        "$$\n",
        "\\hat{\\sum} = \\frac{1}{n} \\chi^{\\prime} \\chi-\\bar{x}_{(n)} \\bar{x}_{(n)}^{\\prime}\n",
        "$$"
      ],
      "metadata": {
        "id": "0xcV8QqFtBNP"
      }
    },
    {
      "cell_type": "code",
      "source": [
        "sigma = 1/len(billetes_norm) * (np.dot(billetes_norm.T, billetes_norm)) - np.dot(mean_vector, mean_vector.T)\n",
        "sigma"
      ],
      "metadata": {
        "colab": {
          "base_uri": "https://localhost:8080/"
        },
        "id": "LWVMp5fRsv7A",
        "outputId": "b71ef203-6011-4057-abcb-40a69c3efd8c"
      },
      "execution_count": 35,
      "outputs": [
        {
          "output_type": "execute_result",
          "data": {
            "text/plain": [
              "array([[ 1.41084000e-03,  3.12860000e-04,  2.29760000e-04,\n",
              "        -1.02730000e-02, -1.84480000e-03,  8.38840000e-04],\n",
              "       [ 3.12860000e-04,  1.29687750e-03,  1.07885250e-03,\n",
              "         2.14723750e-02,  1.04514250e-02, -2.08295250e-03],\n",
              "       [ 2.29760000e-04,  1.07885250e-03,  1.62457750e-03,\n",
              "         2.82711250e-02,  1.29346750e-02, -2.39267750e-03],\n",
              "       [-1.02730000e-02,  2.14723750e-02,  2.82711250e-02,\n",
              "         2.07644375e+00,  1.63716250e-01, -1.03181125e-01],\n",
              "       [-1.84480000e-03,  1.04514250e-02,  1.29346750e-02,\n",
              "         1.63716250e-01,  6.41499750e-01, -5.46866750e-02],\n",
              "       [ 8.38840000e-04, -2.08295250e-03, -2.39267750e-03,\n",
              "        -1.03181125e-01, -5.46866750e-02,  1.32107775e-02]])"
            ]
          },
          "metadata": {},
          "execution_count": 35
        }
      ]
    },
    {
      "cell_type": "markdown",
      "source": [
        "Valores y vectores propios:"
      ],
      "metadata": {
        "id": "WQ3fgzLBxvXL"
      }
    },
    {
      "cell_type": "code",
      "source": [
        "eigenvalue, featurevector = np.linalg.eig(sigma)\n",
        "print('-----------------')\n",
        "print('- Eigenvectores -')\n",
        "print(featurevector)\n",
        "print('-----------------')\n",
        "print('- Eigenvalores -')\n",
        "print(eigenvalue)"
      ],
      "metadata": {
        "colab": {
          "base_uri": "https://localhost:8080/"
        },
        "id": "fW5cr68ywpud",
        "outputId": "39b7ac90-c479-4d6e-aae7-9f1a3dce12e7"
      },
      "execution_count": 36,
      "outputs": [
        {
          "output_type": "stream",
          "name": "stdout",
          "text": [
            "-----------------\n",
            "- Eigenvectores -\n",
            "[[ 0.00497046  0.00107751 -0.05418413 -0.63246848  0.76618635 -0.09990154]\n",
            " [-0.01076604 -0.01279284  0.1003698  -0.53519984 -0.33433467  0.76904343]\n",
            " [-0.0141202  -0.01549116  0.06292408 -0.55694575 -0.53730721 -0.62985205]\n",
            " [-0.99201366  0.11721303 -0.04532457  0.00626558  0.00850268  0.00203464]\n",
            " [-0.11341454 -0.99052089 -0.07622973  0.01176364  0.00684572  0.00304692]\n",
            " [ 0.05201975  0.06873623 -0.98750456 -0.05637865 -0.11117826  0.04318407]]\n",
            "-----------------\n",
            "- Eigenvalores -\n",
            "[2.10125862e+00 6.26260639e-01 4.66366188e-03 2.08876626e-03\n",
            " 8.60987547e-04 3.53901192e-04]\n"
          ]
        }
      ]
    },
    {
      "cell_type": "code",
      "source": [
        "# Multiplicación de los datos por los eigenvectores:\n",
        "billetes_norm = billetes @ featurevector"
      ],
      "metadata": {
        "id": "6_hUdVvRxzI7"
      },
      "execution_count": 37,
      "outputs": []
    },
    {
      "cell_type": "code",
      "source": [
        "billetes_norm"
      ],
      "metadata": {
        "colab": {
          "base_uri": "https://localhost:8080/",
          "height": 424
        },
        "id": "YQqiQOKszj7L",
        "outputId": "8199f8fa-e28b-48d7-b754-a423811a7518"
      },
      "execution_count": 38,
      "outputs": [
        {
          "output_type": "execute_result",
          "data": {
            "text/plain": [
              "            0         1           2           3          4         5\n",
              "0   -4.887314 -2.336632 -130.626452 -286.759887  34.804803  2.849057\n",
              "1   -3.902635 -2.157801 -131.469405 -285.205366  35.751585  2.778862\n",
              "2   -4.482181 -2.151942 -132.008812 -285.355114  35.855019  2.782000\n",
              "3   -3.391488 -3.097212 -131.824198 -285.286251  35.926259  2.836344\n",
              "4   -5.971854 -0.096690 -131.566899 -285.417235  36.087609  2.665511\n",
              "..        ...       ...         ...         ...        ...       ...\n",
              "195 -6.106399 -4.684337 -129.589087 -286.006902  35.768219  2.820219\n",
              "196 -6.422732 -4.028682 -129.700855 -285.804041  36.081370  2.988569\n",
              "197 -6.667916 -3.584758 -129.932494 -285.912513  35.549319  2.715961\n",
              "198 -7.316129 -3.666145 -129.304073 -286.247361  35.196537  2.757242\n",
              "199 -6.328403 -4.043022 -129.594372 -285.078975  35.612422  2.756351\n",
              "\n",
              "[200 rows x 6 columns]"
            ],
            "text/html": [
              "\n",
              "  <div id=\"df-fe8fb324-fb29-4f0d-bce3-835af63aab1d\">\n",
              "    <div class=\"colab-df-container\">\n",
              "      <div>\n",
              "<style scoped>\n",
              "    .dataframe tbody tr th:only-of-type {\n",
              "        vertical-align: middle;\n",
              "    }\n",
              "\n",
              "    .dataframe tbody tr th {\n",
              "        vertical-align: top;\n",
              "    }\n",
              "\n",
              "    .dataframe thead th {\n",
              "        text-align: right;\n",
              "    }\n",
              "</style>\n",
              "<table border=\"1\" class=\"dataframe\">\n",
              "  <thead>\n",
              "    <tr style=\"text-align: right;\">\n",
              "      <th></th>\n",
              "      <th>0</th>\n",
              "      <th>1</th>\n",
              "      <th>2</th>\n",
              "      <th>3</th>\n",
              "      <th>4</th>\n",
              "      <th>5</th>\n",
              "    </tr>\n",
              "  </thead>\n",
              "  <tbody>\n",
              "    <tr>\n",
              "      <th>0</th>\n",
              "      <td>-4.887314</td>\n",
              "      <td>-2.336632</td>\n",
              "      <td>-130.626452</td>\n",
              "      <td>-286.759887</td>\n",
              "      <td>34.804803</td>\n",
              "      <td>2.849057</td>\n",
              "    </tr>\n",
              "    <tr>\n",
              "      <th>1</th>\n",
              "      <td>-3.902635</td>\n",
              "      <td>-2.157801</td>\n",
              "      <td>-131.469405</td>\n",
              "      <td>-285.205366</td>\n",
              "      <td>35.751585</td>\n",
              "      <td>2.778862</td>\n",
              "    </tr>\n",
              "    <tr>\n",
              "      <th>2</th>\n",
              "      <td>-4.482181</td>\n",
              "      <td>-2.151942</td>\n",
              "      <td>-132.008812</td>\n",
              "      <td>-285.355114</td>\n",
              "      <td>35.855019</td>\n",
              "      <td>2.782000</td>\n",
              "    </tr>\n",
              "    <tr>\n",
              "      <th>3</th>\n",
              "      <td>-3.391488</td>\n",
              "      <td>-3.097212</td>\n",
              "      <td>-131.824198</td>\n",
              "      <td>-285.286251</td>\n",
              "      <td>35.926259</td>\n",
              "      <td>2.836344</td>\n",
              "    </tr>\n",
              "    <tr>\n",
              "      <th>4</th>\n",
              "      <td>-5.971854</td>\n",
              "      <td>-0.096690</td>\n",
              "      <td>-131.566899</td>\n",
              "      <td>-285.417235</td>\n",
              "      <td>36.087609</td>\n",
              "      <td>2.665511</td>\n",
              "    </tr>\n",
              "    <tr>\n",
              "      <th>...</th>\n",
              "      <td>...</td>\n",
              "      <td>...</td>\n",
              "      <td>...</td>\n",
              "      <td>...</td>\n",
              "      <td>...</td>\n",
              "      <td>...</td>\n",
              "    </tr>\n",
              "    <tr>\n",
              "      <th>195</th>\n",
              "      <td>-6.106399</td>\n",
              "      <td>-4.684337</td>\n",
              "      <td>-129.589087</td>\n",
              "      <td>-286.006902</td>\n",
              "      <td>35.768219</td>\n",
              "      <td>2.820219</td>\n",
              "    </tr>\n",
              "    <tr>\n",
              "      <th>196</th>\n",
              "      <td>-6.422732</td>\n",
              "      <td>-4.028682</td>\n",
              "      <td>-129.700855</td>\n",
              "      <td>-285.804041</td>\n",
              "      <td>36.081370</td>\n",
              "      <td>2.988569</td>\n",
              "    </tr>\n",
              "    <tr>\n",
              "      <th>197</th>\n",
              "      <td>-6.667916</td>\n",
              "      <td>-3.584758</td>\n",
              "      <td>-129.932494</td>\n",
              "      <td>-285.912513</td>\n",
              "      <td>35.549319</td>\n",
              "      <td>2.715961</td>\n",
              "    </tr>\n",
              "    <tr>\n",
              "      <th>198</th>\n",
              "      <td>-7.316129</td>\n",
              "      <td>-3.666145</td>\n",
              "      <td>-129.304073</td>\n",
              "      <td>-286.247361</td>\n",
              "      <td>35.196537</td>\n",
              "      <td>2.757242</td>\n",
              "    </tr>\n",
              "    <tr>\n",
              "      <th>199</th>\n",
              "      <td>-6.328403</td>\n",
              "      <td>-4.043022</td>\n",
              "      <td>-129.594372</td>\n",
              "      <td>-285.078975</td>\n",
              "      <td>35.612422</td>\n",
              "      <td>2.756351</td>\n",
              "    </tr>\n",
              "  </tbody>\n",
              "</table>\n",
              "<p>200 rows × 6 columns</p>\n",
              "</div>\n",
              "      <button class=\"colab-df-convert\" onclick=\"convertToInteractive('df-fe8fb324-fb29-4f0d-bce3-835af63aab1d')\"\n",
              "              title=\"Convert this dataframe to an interactive table.\"\n",
              "              style=\"display:none;\">\n",
              "        \n",
              "  <svg xmlns=\"http://www.w3.org/2000/svg\" height=\"24px\"viewBox=\"0 0 24 24\"\n",
              "       width=\"24px\">\n",
              "    <path d=\"M0 0h24v24H0V0z\" fill=\"none\"/>\n",
              "    <path d=\"M18.56 5.44l.94 2.06.94-2.06 2.06-.94-2.06-.94-.94-2.06-.94 2.06-2.06.94zm-11 1L8.5 8.5l.94-2.06 2.06-.94-2.06-.94L8.5 2.5l-.94 2.06-2.06.94zm10 10l.94 2.06.94-2.06 2.06-.94-2.06-.94-.94-2.06-.94 2.06-2.06.94z\"/><path d=\"M17.41 7.96l-1.37-1.37c-.4-.4-.92-.59-1.43-.59-.52 0-1.04.2-1.43.59L10.3 9.45l-7.72 7.72c-.78.78-.78 2.05 0 2.83L4 21.41c.39.39.9.59 1.41.59.51 0 1.02-.2 1.41-.59l7.78-7.78 2.81-2.81c.8-.78.8-2.07 0-2.86zM5.41 20L4 18.59l7.72-7.72 1.47 1.35L5.41 20z\"/>\n",
              "  </svg>\n",
              "      </button>\n",
              "      \n",
              "  <style>\n",
              "    .colab-df-container {\n",
              "      display:flex;\n",
              "      flex-wrap:wrap;\n",
              "      gap: 12px;\n",
              "    }\n",
              "\n",
              "    .colab-df-convert {\n",
              "      background-color: #E8F0FE;\n",
              "      border: none;\n",
              "      border-radius: 50%;\n",
              "      cursor: pointer;\n",
              "      display: none;\n",
              "      fill: #1967D2;\n",
              "      height: 32px;\n",
              "      padding: 0 0 0 0;\n",
              "      width: 32px;\n",
              "    }\n",
              "\n",
              "    .colab-df-convert:hover {\n",
              "      background-color: #E2EBFA;\n",
              "      box-shadow: 0px 1px 2px rgba(60, 64, 67, 0.3), 0px 1px 3px 1px rgba(60, 64, 67, 0.15);\n",
              "      fill: #174EA6;\n",
              "    }\n",
              "\n",
              "    [theme=dark] .colab-df-convert {\n",
              "      background-color: #3B4455;\n",
              "      fill: #D2E3FC;\n",
              "    }\n",
              "\n",
              "    [theme=dark] .colab-df-convert:hover {\n",
              "      background-color: #434B5C;\n",
              "      box-shadow: 0px 1px 3px 1px rgba(0, 0, 0, 0.15);\n",
              "      filter: drop-shadow(0px 1px 2px rgba(0, 0, 0, 0.3));\n",
              "      fill: #FFFFFF;\n",
              "    }\n",
              "  </style>\n",
              "\n",
              "      <script>\n",
              "        const buttonEl =\n",
              "          document.querySelector('#df-fe8fb324-fb29-4f0d-bce3-835af63aab1d button.colab-df-convert');\n",
              "        buttonEl.style.display =\n",
              "          google.colab.kernel.accessAllowed ? 'block' : 'none';\n",
              "\n",
              "        async function convertToInteractive(key) {\n",
              "          const element = document.querySelector('#df-fe8fb324-fb29-4f0d-bce3-835af63aab1d');\n",
              "          const dataTable =\n",
              "            await google.colab.kernel.invokeFunction('convertToInteractive',\n",
              "                                                     [key], {});\n",
              "          if (!dataTable) return;\n",
              "\n",
              "          const docLinkHtml = 'Like what you see? Visit the ' +\n",
              "            '<a target=\"_blank\" href=https://colab.research.google.com/notebooks/data_table.ipynb>data table notebook</a>'\n",
              "            + ' to learn more about interactive tables.';\n",
              "          element.innerHTML = '';\n",
              "          dataTable['output_type'] = 'display_data';\n",
              "          await google.colab.output.renderOutput(dataTable, element);\n",
              "          const docLink = document.createElement('div');\n",
              "          docLink.innerHTML = docLinkHtml;\n",
              "          element.appendChild(docLink);\n",
              "        }\n",
              "      </script>\n",
              "    </div>\n",
              "  </div>\n",
              "  "
            ]
          },
          "metadata": {},
          "execution_count": 38
        }
      ]
    },
    {
      "cell_type": "markdown",
      "source": [
        "Vamos a generar la clasificación:"
      ],
      "metadata": {
        "id": "myEBJaC5HP7F"
      }
    },
    {
      "cell_type": "code",
      "source": [
        "billetes_norm['tipo'] = 'Verdadero'\n",
        "billetes_norm['tipo'][100:] = 'Falso'"
      ],
      "metadata": {
        "colab": {
          "base_uri": "https://localhost:8080/"
        },
        "id": "wSPpdJOxHfpm",
        "outputId": "37aea1d0-4247-411d-8053-563c949398b1"
      },
      "execution_count": 39,
      "outputs": [
        {
          "output_type": "stream",
          "name": "stderr",
          "text": [
            "/usr/local/lib/python3.7/dist-packages/ipykernel_launcher.py:2: SettingWithCopyWarning: \n",
            "A value is trying to be set on a copy of a slice from a DataFrame\n",
            "\n",
            "See the caveats in the documentation: https://pandas.pydata.org/pandas-docs/stable/user_guide/indexing.html#returning-a-view-versus-a-copy\n",
            "  \n"
          ]
        }
      ]
    },
    {
      "cell_type": "code",
      "source": [
        "fig = sns.scatterplot(data = billetes_norm, x = 0, y = 1, hue = \"tipo\")\n",
        "fig.set(xlabel='PCA1', ylabel='PCA2')\n",
        "plt.savefig(\"4-1.pdf\", format=\"pdf\", bbox_inches=\"tight\")"
      ],
      "metadata": {
        "id": "lmhVrlCZzk8c",
        "colab": {
          "base_uri": "https://localhost:8080/",
          "height": 394
        },
        "outputId": "62317e01-1618-420e-dc2d-f7828e50f548"
      },
      "execution_count": 40,
      "outputs": [
        {
          "output_type": "display_data",
          "data": {
            "text/plain": [
              "<Figure size 576x432 with 1 Axes>"
            ],
            "image/png": "[encoded data removed]"
          },
          "metadata": {}
        }
      ]
    },
    {
      "cell_type": "code",
      "source": [
        "fig = sns.scatterplot(data = billetes_norm, x = 0, y = 2, hue = \"tipo\")\n",
        "fig.set(xlabel='PCA1', ylabel='PC3')\n",
        "plt.savefig(\"4-2.pdf\", format=\"pdf\", bbox_inches=\"tight\")"
      ],
      "metadata": {
        "colab": {
          "base_uri": "https://localhost:8080/",
          "height": 394
        },
        "id": "XsGyUSIBLcUR",
        "outputId": "05ca70b7-5ed7-4feb-af79-809b511b103b"
      },
      "execution_count": 41,
      "outputs": [
        {
          "output_type": "display_data",
          "data": {
            "text/plain": [
              "<Figure size 576x432 with 1 Axes>"
            ],
            "image/png": "[encoded data removed]"
          },
          "metadata": {}
        }
      ]
    },
    {
      "cell_type": "code",
      "source": [
        "sns.scatterplot(data = billetes_norm, x = 1, y = 2, hue = \"tipo\")\n",
        "fig.set(xlabel='PCA2', ylabel='PCA3')\n",
        "plt.savefig(\"4-3.pdf\", format=\"pdf\", bbox_inches=\"tight\")"
      ],
      "metadata": {
        "colab": {
          "base_uri": "https://localhost:8080/",
          "height": 394
        },
        "id": "2gWWXlhELjWL",
        "outputId": "99068572-6148-4560-b65b-76df17fa6f84"
      },
      "execution_count": 42,
      "outputs": [
        {
          "output_type": "display_data",
          "data": {
            "text/plain": [
              "<Figure size 576x432 with 1 Axes>"
            ],
            "image/png": "[encoded data removed]"
          },
          "metadata": {}
        }
      ]
    },
    {
      "cell_type": "markdown",
      "source": [
        "## Ejercicio 7\n",
        "\n"
      ],
      "metadata": {
        "id": "VmkP1CyuiKag"
      }
    },
    {
      "cell_type": "code",
      "source": [
        "cars = pd.read_csv('/content/drive/MyDrive/Universidad/Ciencia de Datos/7mo Semestre/2023_1-Analisis_Multivariado/Ejercicios/E1/cars.csv', sep=\",\",header=None)\n",
        "cars "
      ],
      "metadata": {
        "colab": {
          "base_uri": "https://localhost:8080/",
          "height": 770
        },
        "id": "Z43pPdaBjLsY",
        "outputId": "9679c91f-dbf8-4887-86d7-c4988f590e50"
      },
      "execution_count": 43,
      "outputs": [
        {
          "output_type": "execute_result",
          "data": {
            "text/plain": [
              "        0    1    2    3    4    5    6    7    8\n",
              "0    A100  3.9  2.8  2.2  4.2  3.0  3.1  2.4  2.8\n",
              "1    BMW3  4.8  1.6  1.9  5.0  2.0  2.5  1.6  2.8\n",
              "2   CiAX   3.0  3.8  3.8  2.7  4.0  4.4  4.0  2.6\n",
              "3    Ferr  5.3  2.9  2.2  5.9  1.7  1.1  3.3  4.3\n",
              "4    FiUn  2.1  3.9  4.0  2.6  4.5  4.4  4.4  2.2\n",
              "5    FoFi  2.3  3.1  3.4  2.6  3.2  3.3  3.6  2.8\n",
              "6    Hyun  2.5  3.4  3.2  2.2  3.3  3.3  3.3  2.4\n",
              "7    Jagu  4.6  2.4  1.6  5.5  1.3  1.6  2.8  3.6\n",
              "8    Lada  3.2  3.9  4.3  2.0  4.3  4.5  4.7  2.9\n",
              "9    Mazd  2.6  3.3  3.7  2.8  3.7  3.0  3.7  3.1\n",
              "10   M200  4.1  1.7  1.8  4.6  2.4  3.2  1.4  2.4\n",
              "11   Mits  3.2  2.9  3.2  3.5  3.1  3.1  2.9  2.6\n",
              "12   NiSu  2.6  3.3  3.9  2.1  3.5  3.9  3.8  2.4\n",
              "13   OpCo  2.2  2.4  3.0  2.6  3.2  4.0  2.9  2.4\n",
              "14   OpVe  3.1  2.6  2.3  3.6  2.8  2.9  2.4  2.4\n",
              "15   P306  2.9  3.5  3.6  2.8  3.2  3.8  3.2  2.6\n",
              "16   Re19  2.7  3.3  3.4  3.0  3.1  3.4  3.0  2.7\n",
              "17   Rove  3.9  2.8  2.6  4.0  2.6  3.0  3.2  3.0\n",
              "18   ToCo  2.5  2.9  3.4  3.0  3.2  3.1  3.2  2.8\n",
              "19   Trab  3.6  4.7  5.5  1.5  4.1  5.8  5.9  3.1\n",
              "20   VWGo  3.8  2.3  1.9  4.2  3.1  3.6  1.6  2.4\n",
              "21   VWPa  3.1  2.2  2.1  3.2  3.5  3.5  2.8  1.8\n",
              "22   Wart  3.7  4.7  5.5  1.7  4.8  5.2  5.5  4.0"
            ],
            "text/html": [
              "\n",
              "  <div id=\"df-24354f07-2f7a-4562-a6f6-ddb587bcb237\">\n",
              "    <div class=\"colab-df-container\">\n",
              "      <div>\n",
              "<style scoped>\n",
              "    .dataframe tbody tr th:only-of-type {\n",
              "        vertical-align: middle;\n",
              "    }\n",
              "\n",
              "    .dataframe tbody tr th {\n",
              "        vertical-align: top;\n",
              "    }\n",
              "\n",
              "    .dataframe thead th {\n",
              "        text-align: right;\n",
              "    }\n",
              "</style>\n",
              "<table border=\"1\" class=\"dataframe\">\n",
              "  <thead>\n",
              "    <tr style=\"text-align: right;\">\n",
              "      <th></th>\n",
              "      <th>0</th>\n",
              "      <th>1</th>\n",
              "      <th>2</th>\n",
              "      <th>3</th>\n",
              "      <th>4</th>\n",
              "      <th>5</th>\n",
              "      <th>6</th>\n",
              "      <th>7</th>\n",
              "      <th>8</th>\n",
              "    </tr>\n",
              "  </thead>\n",
              "  <tbody>\n",
              "    <tr>\n",
              "      <th>0</th>\n",
              "      <td>A100</td>\n",
              "      <td>3.9</td>\n",
              "      <td>2.8</td>\n",
              "      <td>2.2</td>\n",
              "      <td>4.2</td>\n",
              "      <td>3.0</td>\n",
              "      <td>3.1</td>\n",
              "      <td>2.4</td>\n",
              "      <td>2.8</td>\n",
              "    </tr>\n",
              "    <tr>\n",
              "      <th>1</th>\n",
              "      <td>BMW3</td>\n",
              "      <td>4.8</td>\n",
              "      <td>1.6</td>\n",
              "      <td>1.9</td>\n",
              "      <td>5.0</td>\n",
              "      <td>2.0</td>\n",
              "      <td>2.5</td>\n",
              "      <td>1.6</td>\n",
              "      <td>2.8</td>\n",
              "    </tr>\n",
              "    <tr>\n",
              "      <th>2</th>\n",
              "      <td>CiAX</td>\n",
              "      <td>3.0</td>\n",
              "      <td>3.8</td>\n",
              "      <td>3.8</td>\n",
              "      <td>2.7</td>\n",
              "      <td>4.0</td>\n",
              "      <td>4.4</td>\n",
              "      <td>4.0</td>\n",
              "      <td>2.6</td>\n",
              "    </tr>\n",
              "    <tr>\n",
              "      <th>3</th>\n",
              "      <td>Ferr</td>\n",
              "      <td>5.3</td>\n",
              "      <td>2.9</td>\n",
              "      <td>2.2</td>\n",
              "      <td>5.9</td>\n",
              "      <td>1.7</td>\n",
              "      <td>1.1</td>\n",
              "      <td>3.3</td>\n",
              "      <td>4.3</td>\n",
              "    </tr>\n",
              "    <tr>\n",
              "      <th>4</th>\n",
              "      <td>FiUn</td>\n",
              "      <td>2.1</td>\n",
              "      <td>3.9</td>\n",
              "      <td>4.0</td>\n",
              "      <td>2.6</td>\n",
              "      <td>4.5</td>\n",
              "      <td>4.4</td>\n",
              "      <td>4.4</td>\n",
              "      <td>2.2</td>\n",
              "    </tr>\n",
              "    <tr>\n",
              "      <th>5</th>\n",
              "      <td>FoFi</td>\n",
              "      <td>2.3</td>\n",
              "      <td>3.1</td>\n",
              "      <td>3.4</td>\n",
              "      <td>2.6</td>\n",
              "      <td>3.2</td>\n",
              "      <td>3.3</td>\n",
              "      <td>3.6</td>\n",
              "      <td>2.8</td>\n",
              "    </tr>\n",
              "    <tr>\n",
              "      <th>6</th>\n",
              "      <td>Hyun</td>\n",
              "      <td>2.5</td>\n",
              "      <td>3.4</td>\n",
              "      <td>3.2</td>\n",
              "      <td>2.2</td>\n",
              "      <td>3.3</td>\n",
              "      <td>3.3</td>\n",
              "      <td>3.3</td>\n",
              "      <td>2.4</td>\n",
              "    </tr>\n",
              "    <tr>\n",
              "      <th>7</th>\n",
              "      <td>Jagu</td>\n",
              "      <td>4.6</td>\n",
              "      <td>2.4</td>\n",
              "      <td>1.6</td>\n",
              "      <td>5.5</td>\n",
              "      <td>1.3</td>\n",
              "      <td>1.6</td>\n",
              "      <td>2.8</td>\n",
              "      <td>3.6</td>\n",
              "    </tr>\n",
              "    <tr>\n",
              "      <th>8</th>\n",
              "      <td>Lada</td>\n",
              "      <td>3.2</td>\n",
              "      <td>3.9</td>\n",
              "      <td>4.3</td>\n",
              "      <td>2.0</td>\n",
              "      <td>4.3</td>\n",
              "      <td>4.5</td>\n",
              "      <td>4.7</td>\n",
              "      <td>2.9</td>\n",
              "    </tr>\n",
              "    <tr>\n",
              "      <th>9</th>\n",
              "      <td>Mazd</td>\n",
              "      <td>2.6</td>\n",
              "      <td>3.3</td>\n",
              "      <td>3.7</td>\n",
              "      <td>2.8</td>\n",
              "      <td>3.7</td>\n",
              "      <td>3.0</td>\n",
              "      <td>3.7</td>\n",
              "      <td>3.1</td>\n",
              "    </tr>\n",
              "    <tr>\n",
              "      <th>10</th>\n",
              "      <td>M200</td>\n",
              "      <td>4.1</td>\n",
              "      <td>1.7</td>\n",
              "      <td>1.8</td>\n",
              "      <td>4.6</td>\n",
              "      <td>2.4</td>\n",
              "      <td>3.2</td>\n",
              "      <td>1.4</td>\n",
              "      <td>2.4</td>\n",
              "    </tr>\n",
              "    <tr>\n",
              "      <th>11</th>\n",
              "      <td>Mits</td>\n",
              "      <td>3.2</td>\n",
              "      <td>2.9</td>\n",
              "      <td>3.2</td>\n",
              "      <td>3.5</td>\n",
              "      <td>3.1</td>\n",
              "      <td>3.1</td>\n",
              "      <td>2.9</td>\n",
              "      <td>2.6</td>\n",
              "    </tr>\n",
              "    <tr>\n",
              "      <th>12</th>\n",
              "      <td>NiSu</td>\n",
              "      <td>2.6</td>\n",
              "      <td>3.3</td>\n",
              "      <td>3.9</td>\n",
              "      <td>2.1</td>\n",
              "      <td>3.5</td>\n",
              "      <td>3.9</td>\n",
              "      <td>3.8</td>\n",
              "      <td>2.4</td>\n",
              "    </tr>\n",
              "    <tr>\n",
              "      <th>13</th>\n",
              "      <td>OpCo</td>\n",
              "      <td>2.2</td>\n",
              "      <td>2.4</td>\n",
              "      <td>3.0</td>\n",
              "      <td>2.6</td>\n",
              "      <td>3.2</td>\n",
              "      <td>4.0</td>\n",
              "      <td>2.9</td>\n",
              "      <td>2.4</td>\n",
              "    </tr>\n",
              "    <tr>\n",
              "      <th>14</th>\n",
              "      <td>OpVe</td>\n",
              "      <td>3.1</td>\n",
              "      <td>2.6</td>\n",
              "      <td>2.3</td>\n",
              "      <td>3.6</td>\n",
              "      <td>2.8</td>\n",
              "      <td>2.9</td>\n",
              "      <td>2.4</td>\n",
              "      <td>2.4</td>\n",
              "    </tr>\n",
              "    <tr>\n",
              "      <th>15</th>\n",
              "      <td>P306</td>\n",
              "      <td>2.9</td>\n",
              "      <td>3.5</td>\n",
              "      <td>3.6</td>\n",
              "      <td>2.8</td>\n",
              "      <td>3.2</td>\n",
              "      <td>3.8</td>\n",
              "      <td>3.2</td>\n",
              "      <td>2.6</td>\n",
              "    </tr>\n",
              "    <tr>\n",
              "      <th>16</th>\n",
              "      <td>Re19</td>\n",
              "      <td>2.7</td>\n",
              "      <td>3.3</td>\n",
              "      <td>3.4</td>\n",
              "      <td>3.0</td>\n",
              "      <td>3.1</td>\n",
              "      <td>3.4</td>\n",
              "      <td>3.0</td>\n",
              "      <td>2.7</td>\n",
              "    </tr>\n",
              "    <tr>\n",
              "      <th>17</th>\n",
              "      <td>Rove</td>\n",
              "      <td>3.9</td>\n",
              "      <td>2.8</td>\n",
              "      <td>2.6</td>\n",
              "      <td>4.0</td>\n",
              "      <td>2.6</td>\n",
              "      <td>3.0</td>\n",
              "      <td>3.2</td>\n",
              "      <td>3.0</td>\n",
              "    </tr>\n",
              "    <tr>\n",
              "      <th>18</th>\n",
              "      <td>ToCo</td>\n",
              "      <td>2.5</td>\n",
              "      <td>2.9</td>\n",
              "      <td>3.4</td>\n",
              "      <td>3.0</td>\n",
              "      <td>3.2</td>\n",
              "      <td>3.1</td>\n",
              "      <td>3.2</td>\n",
              "      <td>2.8</td>\n",
              "    </tr>\n",
              "    <tr>\n",
              "      <th>19</th>\n",
              "      <td>Trab</td>\n",
              "      <td>3.6</td>\n",
              "      <td>4.7</td>\n",
              "      <td>5.5</td>\n",
              "      <td>1.5</td>\n",
              "      <td>4.1</td>\n",
              "      <td>5.8</td>\n",
              "      <td>5.9</td>\n",
              "      <td>3.1</td>\n",
              "    </tr>\n",
              "    <tr>\n",
              "      <th>20</th>\n",
              "      <td>VWGo</td>\n",
              "      <td>3.8</td>\n",
              "      <td>2.3</td>\n",
              "      <td>1.9</td>\n",
              "      <td>4.2</td>\n",
              "      <td>3.1</td>\n",
              "      <td>3.6</td>\n",
              "      <td>1.6</td>\n",
              "      <td>2.4</td>\n",
              "    </tr>\n",
              "    <tr>\n",
              "      <th>21</th>\n",
              "      <td>VWPa</td>\n",
              "      <td>3.1</td>\n",
              "      <td>2.2</td>\n",
              "      <td>2.1</td>\n",
              "      <td>3.2</td>\n",
              "      <td>3.5</td>\n",
              "      <td>3.5</td>\n",
              "      <td>2.8</td>\n",
              "      <td>1.8</td>\n",
              "    </tr>\n",
              "    <tr>\n",
              "      <th>22</th>\n",
              "      <td>Wart</td>\n",
              "      <td>3.7</td>\n",
              "      <td>4.7</td>\n",
              "      <td>5.5</td>\n",
              "      <td>1.7</td>\n",
              "      <td>4.8</td>\n",
              "      <td>5.2</td>\n",
              "      <td>5.5</td>\n",
              "      <td>4.0</td>\n",
              "    </tr>\n",
              "  </tbody>\n",
              "</table>\n",
              "</div>\n",
              "      <button class=\"colab-df-convert\" onclick=\"convertToInteractive('df-24354f07-2f7a-4562-a6f6-ddb587bcb237')\"\n",
              "              title=\"Convert this dataframe to an interactive table.\"\n",
              "              style=\"display:none;\">\n",
              "        \n",
              "  <svg xmlns=\"http://www.w3.org/2000/svg\" height=\"24px\"viewBox=\"0 0 24 24\"\n",
              "       width=\"24px\">\n",
              "    <path d=\"M0 0h24v24H0V0z\" fill=\"none\"/>\n",
              "    <path d=\"M18.56 5.44l.94 2.06.94-2.06 2.06-.94-2.06-.94-.94-2.06-.94 2.06-2.06.94zm-11 1L8.5 8.5l.94-2.06 2.06-.94-2.06-.94L8.5 2.5l-.94 2.06-2.06.94zm10 10l.94 2.06.94-2.06 2.06-.94-2.06-.94-.94-2.06-.94 2.06-2.06.94z\"/><path d=\"M17.41 7.96l-1.37-1.37c-.4-.4-.92-.59-1.43-.59-.52 0-1.04.2-1.43.59L10.3 9.45l-7.72 7.72c-.78.78-.78 2.05 0 2.83L4 21.41c.39.39.9.59 1.41.59.51 0 1.02-.2 1.41-.59l7.78-7.78 2.81-2.81c.8-.78.8-2.07 0-2.86zM5.41 20L4 18.59l7.72-7.72 1.47 1.35L5.41 20z\"/>\n",
              "  </svg>\n",
              "      </button>\n",
              "      \n",
              "  <style>\n",
              "    .colab-df-container {\n",
              "      display:flex;\n",
              "      flex-wrap:wrap;\n",
              "      gap: 12px;\n",
              "    }\n",
              "\n",
              "    .colab-df-convert {\n",
              "      background-color: #E8F0FE;\n",
              "      border: none;\n",
              "      border-radius: 50%;\n",
              "      cursor: pointer;\n",
              "      display: none;\n",
              "      fill: #1967D2;\n",
              "      height: 32px;\n",
              "      padding: 0 0 0 0;\n",
              "      width: 32px;\n",
              "    }\n",
              "\n",
              "    .colab-df-convert:hover {\n",
              "      background-color: #E2EBFA;\n",
              "      box-shadow: 0px 1px 2px rgba(60, 64, 67, 0.3), 0px 1px 3px 1px rgba(60, 64, 67, 0.15);\n",
              "      fill: #174EA6;\n",
              "    }\n",
              "\n",
              "    [theme=dark] .colab-df-convert {\n",
              "      background-color: #3B4455;\n",
              "      fill: #D2E3FC;\n",
              "    }\n",
              "\n",
              "    [theme=dark] .colab-df-convert:hover {\n",
              "      background-color: #434B5C;\n",
              "      box-shadow: 0px 1px 3px 1px rgba(0, 0, 0, 0.15);\n",
              "      filter: drop-shadow(0px 1px 2px rgba(0, 0, 0, 0.3));\n",
              "      fill: #FFFFFF;\n",
              "    }\n",
              "  </style>\n",
              "\n",
              "      <script>\n",
              "        const buttonEl =\n",
              "          document.querySelector('#df-24354f07-2f7a-4562-a6f6-ddb587bcb237 button.colab-df-convert');\n",
              "        buttonEl.style.display =\n",
              "          google.colab.kernel.accessAllowed ? 'block' : 'none';\n",
              "\n",
              "        async function convertToInteractive(key) {\n",
              "          const element = document.querySelector('#df-24354f07-2f7a-4562-a6f6-ddb587bcb237');\n",
              "          const dataTable =\n",
              "            await google.colab.kernel.invokeFunction('convertToInteractive',\n",
              "                                                     [key], {});\n",
              "          if (!dataTable) return;\n",
              "\n",
              "          const docLinkHtml = 'Like what you see? Visit the ' +\n",
              "            '<a target=\"_blank\" href=https://colab.research.google.com/notebooks/data_table.ipynb>data table notebook</a>'\n",
              "            + ' to learn more about interactive tables.';\n",
              "          element.innerHTML = '';\n",
              "          dataTable['output_type'] = 'display_data';\n",
              "          await google.colab.output.renderOutput(dataTable, element);\n",
              "          const docLink = document.createElement('div');\n",
              "          docLink.innerHTML = docLinkHtml;\n",
              "          element.appendChild(docLink);\n",
              "        }\n",
              "      </script>\n",
              "    </div>\n",
              "  </div>\n",
              "  "
            ]
          },
          "metadata": {},
          "execution_count": 43
        }
      ]
    },
    {
      "cell_type": "code",
      "source": [
        "cars_ = cars.set_index(0).reset_index(drop = True)"
      ],
      "metadata": {
        "id": "s-S0bE97jVhK"
      },
      "execution_count": 44,
      "outputs": []
    },
    {
      "cell_type": "code",
      "source": [
        "cars_"
      ],
      "metadata": {
        "colab": {
          "base_uri": "https://localhost:8080/",
          "height": 770
        },
        "id": "sysVoN4ImKw0",
        "outputId": "24f1ac08-d60f-4981-8ebe-52856a308043"
      },
      "execution_count": 45,
      "outputs": [
        {
          "output_type": "execute_result",
          "data": {
            "text/plain": [
              "      1    2    3    4    5    6    7    8\n",
              "0   3.9  2.8  2.2  4.2  3.0  3.1  2.4  2.8\n",
              "1   4.8  1.6  1.9  5.0  2.0  2.5  1.6  2.8\n",
              "2   3.0  3.8  3.8  2.7  4.0  4.4  4.0  2.6\n",
              "3   5.3  2.9  2.2  5.9  1.7  1.1  3.3  4.3\n",
              "4   2.1  3.9  4.0  2.6  4.5  4.4  4.4  2.2\n",
              "5   2.3  3.1  3.4  2.6  3.2  3.3  3.6  2.8\n",
              "6   2.5  3.4  3.2  2.2  3.3  3.3  3.3  2.4\n",
              "7   4.6  2.4  1.6  5.5  1.3  1.6  2.8  3.6\n",
              "8   3.2  3.9  4.3  2.0  4.3  4.5  4.7  2.9\n",
              "9   2.6  3.3  3.7  2.8  3.7  3.0  3.7  3.1\n",
              "10  4.1  1.7  1.8  4.6  2.4  3.2  1.4  2.4\n",
              "11  3.2  2.9  3.2  3.5  3.1  3.1  2.9  2.6\n",
              "12  2.6  3.3  3.9  2.1  3.5  3.9  3.8  2.4\n",
              "13  2.2  2.4  3.0  2.6  3.2  4.0  2.9  2.4\n",
              "14  3.1  2.6  2.3  3.6  2.8  2.9  2.4  2.4\n",
              "15  2.9  3.5  3.6  2.8  3.2  3.8  3.2  2.6\n",
              "16  2.7  3.3  3.4  3.0  3.1  3.4  3.0  2.7\n",
              "17  3.9  2.8  2.6  4.0  2.6  3.0  3.2  3.0\n",
              "18  2.5  2.9  3.4  3.0  3.2  3.1  3.2  2.8\n",
              "19  3.6  4.7  5.5  1.5  4.1  5.8  5.9  3.1\n",
              "20  3.8  2.3  1.9  4.2  3.1  3.6  1.6  2.4\n",
              "21  3.1  2.2  2.1  3.2  3.5  3.5  2.8  1.8\n",
              "22  3.7  4.7  5.5  1.7  4.8  5.2  5.5  4.0"
            ],
            "text/html": [
              "\n",
              "  <div id=\"df-44cf8e6d-7dbd-4b01-ba9c-10fda5a4d70b\">\n",
              "    <div class=\"colab-df-container\">\n",
              "      <div>\n",
              "<style scoped>\n",
              "    .dataframe tbody tr th:only-of-type {\n",
              "        vertical-align: middle;\n",
              "    }\n",
              "\n",
              "    .dataframe tbody tr th {\n",
              "        vertical-align: top;\n",
              "    }\n",
              "\n",
              "    .dataframe thead th {\n",
              "        text-align: right;\n",
              "    }\n",
              "</style>\n",
              "<table border=\"1\" class=\"dataframe\">\n",
              "  <thead>\n",
              "    <tr style=\"text-align: right;\">\n",
              "      <th></th>\n",
              "      <th>1</th>\n",
              "      <th>2</th>\n",
              "      <th>3</th>\n",
              "      <th>4</th>\n",
              "      <th>5</th>\n",
              "      <th>6</th>\n",
              "      <th>7</th>\n",
              "      <th>8</th>\n",
              "    </tr>\n",
              "  </thead>\n",
              "  <tbody>\n",
              "    <tr>\n",
              "      <th>0</th>\n",
              "      <td>3.9</td>\n",
              "      <td>2.8</td>\n",
              "      <td>2.2</td>\n",
              "      <td>4.2</td>\n",
              "      <td>3.0</td>\n",
              "      <td>3.1</td>\n",
              "      <td>2.4</td>\n",
              "      <td>2.8</td>\n",
              "    </tr>\n",
              "    <tr>\n",
              "      <th>1</th>\n",
              "      <td>4.8</td>\n",
              "      <td>1.6</td>\n",
              "      <td>1.9</td>\n",
              "      <td>5.0</td>\n",
              "      <td>2.0</td>\n",
              "      <td>2.5</td>\n",
              "      <td>1.6</td>\n",
              "      <td>2.8</td>\n",
              "    </tr>\n",
              "    <tr>\n",
              "      <th>2</th>\n",
              "      <td>3.0</td>\n",
              "      <td>3.8</td>\n",
              "      <td>3.8</td>\n",
              "      <td>2.7</td>\n",
              "      <td>4.0</td>\n",
              "      <td>4.4</td>\n",
              "      <td>4.0</td>\n",
              "      <td>2.6</td>\n",
              "    </tr>\n",
              "    <tr>\n",
              "      <th>3</th>\n",
              "      <td>5.3</td>\n",
              "      <td>2.9</td>\n",
              "      <td>2.2</td>\n",
              "      <td>5.9</td>\n",
              "      <td>1.7</td>\n",
              "      <td>1.1</td>\n",
              "      <td>3.3</td>\n",
              "      <td>4.3</td>\n",
              "    </tr>\n",
              "    <tr>\n",
              "      <th>4</th>\n",
              "      <td>2.1</td>\n",
              "      <td>3.9</td>\n",
              "      <td>4.0</td>\n",
              "      <td>2.6</td>\n",
              "      <td>4.5</td>\n",
              "      <td>4.4</td>\n",
              "      <td>4.4</td>\n",
              "      <td>2.2</td>\n",
              "    </tr>\n",
              "    <tr>\n",
              "      <th>5</th>\n",
              "      <td>2.3</td>\n",
              "      <td>3.1</td>\n",
              "      <td>3.4</td>\n",
              "      <td>2.6</td>\n",
              "      <td>3.2</td>\n",
              "      <td>3.3</td>\n",
              "      <td>3.6</td>\n",
              "      <td>2.8</td>\n",
              "    </tr>\n",
              "    <tr>\n",
              "      <th>6</th>\n",
              "      <td>2.5</td>\n",
              "      <td>3.4</td>\n",
              "      <td>3.2</td>\n",
              "      <td>2.2</td>\n",
              "      <td>3.3</td>\n",
              "      <td>3.3</td>\n",
              "      <td>3.3</td>\n",
              "      <td>2.4</td>\n",
              "    </tr>\n",
              "    <tr>\n",
              "      <th>7</th>\n",
              "      <td>4.6</td>\n",
              "      <td>2.4</td>\n",
              "      <td>1.6</td>\n",
              "      <td>5.5</td>\n",
              "      <td>1.3</td>\n",
              "      <td>1.6</td>\n",
              "      <td>2.8</td>\n",
              "      <td>3.6</td>\n",
              "    </tr>\n",
              "    <tr>\n",
              "      <th>8</th>\n",
              "      <td>3.2</td>\n",
              "      <td>3.9</td>\n",
              "      <td>4.3</td>\n",
              "      <td>2.0</td>\n",
              "      <td>4.3</td>\n",
              "      <td>4.5</td>\n",
              "      <td>4.7</td>\n",
              "      <td>2.9</td>\n",
              "    </tr>\n",
              "    <tr>\n",
              "      <th>9</th>\n",
              "      <td>2.6</td>\n",
              "      <td>3.3</td>\n",
              "      <td>3.7</td>\n",
              "      <td>2.8</td>\n",
              "      <td>3.7</td>\n",
              "      <td>3.0</td>\n",
              "      <td>3.7</td>\n",
              "      <td>3.1</td>\n",
              "    </tr>\n",
              "    <tr>\n",
              "      <th>10</th>\n",
              "      <td>4.1</td>\n",
              "      <td>1.7</td>\n",
              "      <td>1.8</td>\n",
              "      <td>4.6</td>\n",
              "      <td>2.4</td>\n",
              "      <td>3.2</td>\n",
              "      <td>1.4</td>\n",
              "      <td>2.4</td>\n",
              "    </tr>\n",
              "    <tr>\n",
              "      <th>11</th>\n",
              "      <td>3.2</td>\n",
              "      <td>2.9</td>\n",
              "      <td>3.2</td>\n",
              "      <td>3.5</td>\n",
              "      <td>3.1</td>\n",
              "      <td>3.1</td>\n",
              "      <td>2.9</td>\n",
              "      <td>2.6</td>\n",
              "    </tr>\n",
              "    <tr>\n",
              "      <th>12</th>\n",
              "      <td>2.6</td>\n",
              "      <td>3.3</td>\n",
              "      <td>3.9</td>\n",
              "      <td>2.1</td>\n",
              "      <td>3.5</td>\n",
              "      <td>3.9</td>\n",
              "      <td>3.8</td>\n",
              "      <td>2.4</td>\n",
              "    </tr>\n",
              "    <tr>\n",
              "      <th>13</th>\n",
              "      <td>2.2</td>\n",
              "      <td>2.4</td>\n",
              "      <td>3.0</td>\n",
              "      <td>2.6</td>\n",
              "      <td>3.2</td>\n",
              "      <td>4.0</td>\n",
              "      <td>2.9</td>\n",
              "      <td>2.4</td>\n",
              "    </tr>\n",
              "    <tr>\n",
              "      <th>14</th>\n",
              "      <td>3.1</td>\n",
              "      <td>2.6</td>\n",
              "      <td>2.3</td>\n",
              "      <td>3.6</td>\n",
              "      <td>2.8</td>\n",
              "      <td>2.9</td>\n",
              "      <td>2.4</td>\n",
              "      <td>2.4</td>\n",
              "    </tr>\n",
              "    <tr>\n",
              "      <th>15</th>\n",
              "      <td>2.9</td>\n",
              "      <td>3.5</td>\n",
              "      <td>3.6</td>\n",
              "      <td>2.8</td>\n",
              "      <td>3.2</td>\n",
              "      <td>3.8</td>\n",
              "      <td>3.2</td>\n",
              "      <td>2.6</td>\n",
              "    </tr>\n",
              "    <tr>\n",
              "      <th>16</th>\n",
              "      <td>2.7</td>\n",
              "      <td>3.3</td>\n",
              "      <td>3.4</td>\n",
              "      <td>3.0</td>\n",
              "      <td>3.1</td>\n",
              "      <td>3.4</td>\n",
              "      <td>3.0</td>\n",
              "      <td>2.7</td>\n",
              "    </tr>\n",
              "    <tr>\n",
              "      <th>17</th>\n",
              "      <td>3.9</td>\n",
              "      <td>2.8</td>\n",
              "      <td>2.6</td>\n",
              "      <td>4.0</td>\n",
              "      <td>2.6</td>\n",
              "      <td>3.0</td>\n",
              "      <td>3.2</td>\n",
              "      <td>3.0</td>\n",
              "    </tr>\n",
              "    <tr>\n",
              "      <th>18</th>\n",
              "      <td>2.5</td>\n",
              "      <td>2.9</td>\n",
              "      <td>3.4</td>\n",
              "      <td>3.0</td>\n",
              "      <td>3.2</td>\n",
              "      <td>3.1</td>\n",
              "      <td>3.2</td>\n",
              "      <td>2.8</td>\n",
              "    </tr>\n",
              "    <tr>\n",
              "      <th>19</th>\n",
              "      <td>3.6</td>\n",
              "      <td>4.7</td>\n",
              "      <td>5.5</td>\n",
              "      <td>1.5</td>\n",
              "      <td>4.1</td>\n",
              "      <td>5.8</td>\n",
              "      <td>5.9</td>\n",
              "      <td>3.1</td>\n",
              "    </tr>\n",
              "    <tr>\n",
              "      <th>20</th>\n",
              "      <td>3.8</td>\n",
              "      <td>2.3</td>\n",
              "      <td>1.9</td>\n",
              "      <td>4.2</td>\n",
              "      <td>3.1</td>\n",
              "      <td>3.6</td>\n",
              "      <td>1.6</td>\n",
              "      <td>2.4</td>\n",
              "    </tr>\n",
              "    <tr>\n",
              "      <th>21</th>\n",
              "      <td>3.1</td>\n",
              "      <td>2.2</td>\n",
              "      <td>2.1</td>\n",
              "      <td>3.2</td>\n",
              "      <td>3.5</td>\n",
              "      <td>3.5</td>\n",
              "      <td>2.8</td>\n",
              "      <td>1.8</td>\n",
              "    </tr>\n",
              "    <tr>\n",
              "      <th>22</th>\n",
              "      <td>3.7</td>\n",
              "      <td>4.7</td>\n",
              "      <td>5.5</td>\n",
              "      <td>1.7</td>\n",
              "      <td>4.8</td>\n",
              "      <td>5.2</td>\n",
              "      <td>5.5</td>\n",
              "      <td>4.0</td>\n",
              "    </tr>\n",
              "  </tbody>\n",
              "</table>\n",
              "</div>\n",
              "      <button class=\"colab-df-convert\" onclick=\"convertToInteractive('df-44cf8e6d-7dbd-4b01-ba9c-10fda5a4d70b')\"\n",
              "              title=\"Convert this dataframe to an interactive table.\"\n",
              "              style=\"display:none;\">\n",
              "        \n",
              "  <svg xmlns=\"http://www.w3.org/2000/svg\" height=\"24px\"viewBox=\"0 0 24 24\"\n",
              "       width=\"24px\">\n",
              "    <path d=\"M0 0h24v24H0V0z\" fill=\"none\"/>\n",
              "    <path d=\"M18.56 5.44l.94 2.06.94-2.06 2.06-.94-2.06-.94-.94-2.06-.94 2.06-2.06.94zm-11 1L8.5 8.5l.94-2.06 2.06-.94-2.06-.94L8.5 2.5l-.94 2.06-2.06.94zm10 10l.94 2.06.94-2.06 2.06-.94-2.06-.94-.94-2.06-.94 2.06-2.06.94z\"/><path d=\"M17.41 7.96l-1.37-1.37c-.4-.4-.92-.59-1.43-.59-.52 0-1.04.2-1.43.59L10.3 9.45l-7.72 7.72c-.78.78-.78 2.05 0 2.83L4 21.41c.39.39.9.59 1.41.59.51 0 1.02-.2 1.41-.59l7.78-7.78 2.81-2.81c.8-.78.8-2.07 0-2.86zM5.41 20L4 18.59l7.72-7.72 1.47 1.35L5.41 20z\"/>\n",
              "  </svg>\n",
              "      </button>\n",
              "      \n",
              "  <style>\n",
              "    .colab-df-container {\n",
              "      display:flex;\n",
              "      flex-wrap:wrap;\n",
              "      gap: 12px;\n",
              "    }\n",
              "\n",
              "    .colab-df-convert {\n",
              "      background-color: #E8F0FE;\n",
              "      border: none;\n",
              "      border-radius: 50%;\n",
              "      cursor: pointer;\n",
              "      display: none;\n",
              "      fill: #1967D2;\n",
              "      height: 32px;\n",
              "      padding: 0 0 0 0;\n",
              "      width: 32px;\n",
              "    }\n",
              "\n",
              "    .colab-df-convert:hover {\n",
              "      background-color: #E2EBFA;\n",
              "      box-shadow: 0px 1px 2px rgba(60, 64, 67, 0.3), 0px 1px 3px 1px rgba(60, 64, 67, 0.15);\n",
              "      fill: #174EA6;\n",
              "    }\n",
              "\n",
              "    [theme=dark] .colab-df-convert {\n",
              "      background-color: #3B4455;\n",
              "      fill: #D2E3FC;\n",
              "    }\n",
              "\n",
              "    [theme=dark] .colab-df-convert:hover {\n",
              "      background-color: #434B5C;\n",
              "      box-shadow: 0px 1px 3px 1px rgba(0, 0, 0, 0.15);\n",
              "      filter: drop-shadow(0px 1px 2px rgba(0, 0, 0, 0.3));\n",
              "      fill: #FFFFFF;\n",
              "    }\n",
              "  </style>\n",
              "\n",
              "      <script>\n",
              "        const buttonEl =\n",
              "          document.querySelector('#df-44cf8e6d-7dbd-4b01-ba9c-10fda5a4d70b button.colab-df-convert');\n",
              "        buttonEl.style.display =\n",
              "          google.colab.kernel.accessAllowed ? 'block' : 'none';\n",
              "\n",
              "        async function convertToInteractive(key) {\n",
              "          const element = document.querySelector('#df-44cf8e6d-7dbd-4b01-ba9c-10fda5a4d70b');\n",
              "          const dataTable =\n",
              "            await google.colab.kernel.invokeFunction('convertToInteractive',\n",
              "                                                     [key], {});\n",
              "          if (!dataTable) return;\n",
              "\n",
              "          const docLinkHtml = 'Like what you see? Visit the ' +\n",
              "            '<a target=\"_blank\" href=https://colab.research.google.com/notebooks/data_table.ipynb>data table notebook</a>'\n",
              "            + ' to learn more about interactive tables.';\n",
              "          element.innerHTML = '';\n",
              "          dataTable['output_type'] = 'display_data';\n",
              "          await google.colab.output.renderOutput(dataTable, element);\n",
              "          const docLink = document.createElement('div');\n",
              "          docLink.innerHTML = docLinkHtml;\n",
              "          element.appendChild(docLink);\n",
              "        }\n",
              "      </script>\n",
              "    </div>\n",
              "  </div>\n",
              "  "
            ]
          },
          "metadata": {},
          "execution_count": 45
        }
      ]
    },
    {
      "cell_type": "code",
      "source": [
        "mean_vector = np.array([cars_.mean(axis=0).values]).T"
      ],
      "metadata": {
        "id": "z3AmcI6gvAZI"
      },
      "execution_count": 46,
      "outputs": []
    },
    {
      "cell_type": "code",
      "source": [
        "sigma = 1/len(cars_) * (np.dot(cars_.T, cars_)) - np.dot(mean_vector, mean_vector.T)\n",
        "sigma"
      ],
      "metadata": {
        "colab": {
          "base_uri": "https://localhost:8080/"
        },
        "id": "JXBt_eIa1Ba-",
        "outputId": "1763fc6f-f403-44c8-fb5f-a7f7a4232853"
      },
      "execution_count": 47,
      "outputs": [
        {
          "output_type": "execute_result",
          "data": {
            "text/plain": [
              "array([[ 0.71383743, -0.22381853, -0.40302457,  0.74455577, -0.43434783,\n",
              "        -0.40378072, -0.2631569 ,  0.27162571],\n",
              "       [-0.22381853,  0.62672968,  0.78204159, -0.67797732,  0.49869565,\n",
              "         0.54646503,  0.81470699,  0.12992439],\n",
              "       [-0.40302457,  0.78204159,  1.13379962, -1.06124764,  0.73304348,\n",
              "         0.85659735,  1.07111531,  0.10589792],\n",
              "       [ 0.74455577, -0.67797732, -1.06124764,  1.35062382, -0.85695652,\n",
              "        -0.99829868, -0.91077505,  0.173138  ],\n",
              "       [-0.43434783,  0.49869565,  0.73304348, -0.85695652,  0.69043478,\n",
              "         0.73652174,  0.64956522, -0.09956522],\n",
              "       [-0.40378072,  0.54646503,  0.85659735, -0.99829868,  0.73652174,\n",
              "         1.00748582,  0.72476371, -0.13914934],\n",
              "       [-0.2631569 ,  0.81470699,  1.07111531, -0.91077505,  0.64956522,\n",
              "         0.72476371,  1.20461248,  0.21069943],\n",
              "       [ 0.27162571,  0.12992439,  0.10589792,  0.173138  , -0.09956522,\n",
              "        -0.13914934,  0.21069943,  0.30461248]])"
            ]
          },
          "metadata": {},
          "execution_count": 47
        }
      ]
    },
    {
      "cell_type": "code",
      "source": [
        "eigenvalue, featurevector = np.linalg.eig(sigma)\n",
        "print('-----------------')\n",
        "print('- Eigenvectores -')\n",
        "print(featurevector)\n",
        "print('-----------------')\n",
        "print('- Eigenvalores -')\n",
        "print(eigenvalue)"
      ],
      "metadata": {
        "colab": {
          "base_uri": "https://localhost:8080/"
        },
        "id": "aMm4a8ZZ1O2t",
        "outputId": "2afa5354-9f2e-41cf-db26-461cec27b32b"
      },
      "execution_count": 48,
      "outputs": [
        {
          "output_type": "stream",
          "name": "stdout",
          "text": [
            "-----------------\n",
            "- Eigenvectores -\n",
            "[[ 0.22074468 -0.54061277 -0.59342593  0.10914002  0.24562552  0.43602713\n",
            "  -0.20763442  0.03715014]\n",
            " [-0.30597795 -0.27903839  0.12849793 -0.27408282 -0.15349251  0.47623487\n",
            "   0.68916894 -0.10755712]\n",
            " [-0.44346793 -0.21912515  0.06175501  0.32925148  0.61334679 -0.30152838\n",
            "   0.11586052 -0.40319081]\n",
            " [ 0.47767627 -0.29648061 -0.1164241  -0.4561908   0.14116104 -0.56452099\n",
            "   0.35123799 -0.01677775]\n",
            " [-0.33268483  0.13869582 -0.20025752 -0.7204073   0.0730782   0.04250816\n",
            "  -0.41112108 -0.36718744]\n",
            " [-0.38569859  0.15577559 -0.71265406  0.14605793 -0.34651607 -0.31721979\n",
            "   0.24515026  0.1302359 ]\n",
            " [-0.41623018 -0.45655877  0.2155418  -0.170154   -0.00227424 -0.19039136\n",
            "  -0.24198398  0.66939195]\n",
            " [ 0.01098606 -0.49194548  0.13974456  0.16485905 -0.62814683 -0.18652925\n",
            "  -0.23972254 -0.47363848]]\n",
            "-----------------\n",
            "- Eigenvalores -\n",
            "[5.31474182 1.09599529 0.35045417 0.09516431 0.02341941 0.03423837\n",
            " 0.04573816 0.07238458]\n"
          ]
        }
      ]
    },
    {
      "cell_type": "code",
      "source": [
        "# Multiplicación de los datos por los eigenvectores:\n",
        "cars_pca = cars_ @ featurevector\n",
        "cars_pca"
      ],
      "metadata": {
        "colab": {
          "base_uri": "https://localhost:8080/",
          "height": 770
        },
        "id": "ku8C8MKL1TSr",
        "outputId": "31148107-ccd4-4109-8ec7-797f2ecd56b2"
      },
      "execution_count": 49,
      "outputs": [
        {
          "output_type": "execute_result",
          "data": {
            "text/plain": [
              "           0         1         2         3         4         5         6  \\\n",
              "0  -2.127135 -6.191188 -4.209102 -3.188640 -0.148835 -1.835465  1.124609   \n",
              "1  -0.149021 -6.381254 -4.553632 -2.456347  0.321995 -2.075544  0.814586   \n",
              "2  -5.560104 -6.180455 -4.082867 -3.185611 -0.009179 -2.024517  1.227514   \n",
              "3  -0.190881 -9.120643 -3.135722 -3.100213  0.073429 -2.009057  0.966730   \n",
              "4  -6.263063 -5.652482 -3.581750 -3.693985  0.149850 -2.353462  1.264885   \n",
              "5  -4.511716 -5.687476 -2.884619 -2.639537 -0.135141 -2.132251  0.917052   \n",
              "6  -4.574531 -5.369278 -3.071122 -2.670246 -0.051949 -1.480081  1.045981   \n",
              "7   0.023247 -7.757577 -3.256873 -2.723777 -0.207885 -2.095515  1.133300   \n",
              "8  -6.529101 -6.628496 -4.014868 -2.978398  0.029693 -1.853489  0.726840   \n",
              "9  -4.633153 -6.201126 -2.864560 -3.025653  0.071906 -2.068136  0.722380   \n",
              "10 -0.805076 -5.437613 -4.762957 -2.628438  0.055292 -2.169539  1.028208   \n",
              "11 -3.333676 -5.968272 -3.577806 -2.833951  0.310212 -2.053063  1.094705   \n",
              "12 -5.386125 -5.626250 -3.448317 -2.497352  0.208758 -1.915745  0.946153   \n",
              "13 -4.125241 -4.725026 -3.645562 -2.434889 -0.287309 -2.402775  0.845936   \n",
              "14 -2.434205 -5.409030 -3.557347 -2.865570 -0.032052 -1.841420  1.082810   \n",
              "15 -4.523373 -5.867680 -3.670702 -2.600955  0.055019 -1.898498  1.428872   \n",
              "16 -4.050205 -5.753284 -3.337399 -2.660921  0.011094 -1.991486  1.347117   \n",
              "17 -2.559200 -6.754234 -3.809365 -2.795296 -0.053757 -2.018073  0.999108   \n",
              "18 -3.971669 -5.706915 -3.019259 -2.706519  0.071359 -2.226500  0.925950   \n",
              "19 -8.388736 -7.654172 -4.616921 -2.368068  0.077140 -2.064327  1.221130   \n",
              "20 -1.760708 -5.278087 -4.837219 -3.090121 -0.193527 -1.954161  1.136969   \n",
              "21 -3.051573 -4.831901 -4.139930 -3.222938  0.069434 -1.870615  0.549820   \n",
              "22 -8.096207 -8.024035 -4.372583 -2.823877 -0.175423 -2.005261  0.716782   \n",
              "\n",
              "           7  \n",
              "0  -1.531239  \n",
              "1  -1.507668  \n",
              "2  -1.324296  \n",
              "3  -1.409640  \n",
              "4  -1.173828  \n",
              "5  -1.324051  \n",
              "6  -1.309619  \n",
              "7  -0.924397  \n",
              "8  -1.288122  \n",
              "9  -1.756547  \n",
              "10 -1.497531  \n",
              "11 -1.566741  \n",
              "12 -1.236305  \n",
              "13 -1.279153  \n",
              "14 -1.332854  \n",
              "15 -1.536688  \n",
              "16 -1.641942  \n",
              "17 -1.114522  \n",
              "18 -1.595624  \n",
              "19 -0.883461  \n",
              "20 -1.677877  \n",
              "21 -0.829432  \n",
              "22 -1.912306  "
            ],
            "text/html": [
              "\n",
              "  <div id=\"df-6457edf5-a0b5-49c0-8552-7c57b4562bf7\">\n",
              "    <div class=\"colab-df-container\">\n",
              "      <div>\n",
              "<style scoped>\n",
              "    .dataframe tbody tr th:only-of-type {\n",
              "        vertical-align: middle;\n",
              "    }\n",
              "\n",
              "    .dataframe tbody tr th {\n",
              "        vertical-align: top;\n",
              "    }\n",
              "\n",
              "    .dataframe thead th {\n",
              "        text-align: right;\n",
              "    }\n",
              "</style>\n",
              "<table border=\"1\" class=\"dataframe\">\n",
              "  <thead>\n",
              "    <tr style=\"text-align: right;\">\n",
              "      <th></th>\n",
              "      <th>0</th>\n",
              "      <th>1</th>\n",
              "      <th>2</th>\n",
              "      <th>3</th>\n",
              "      <th>4</th>\n",
              "      <th>5</th>\n",
              "      <th>6</th>\n",
              "      <th>7</th>\n",
              "    </tr>\n",
              "  </thead>\n",
              "  <tbody>\n",
              "    <tr>\n",
              "      <th>0</th>\n",
              "      <td>-2.127135</td>\n",
              "      <td>-6.191188</td>\n",
              "      <td>-4.209102</td>\n",
              "      <td>-3.188640</td>\n",
              "      <td>-0.148835</td>\n",
              "      <td>-1.835465</td>\n",
              "      <td>1.124609</td>\n",
              "      <td>-1.531239</td>\n",
              "    </tr>\n",
              "    <tr>\n",
              "      <th>1</th>\n",
              "      <td>-0.149021</td>\n",
              "      <td>-6.381254</td>\n",
              "      <td>-4.553632</td>\n",
              "      <td>-2.456347</td>\n",
              "      <td>0.321995</td>\n",
              "      <td>-2.075544</td>\n",
              "      <td>0.814586</td>\n",
              "      <td>-1.507668</td>\n",
              "    </tr>\n",
              "    <tr>\n",
              "      <th>2</th>\n",
              "      <td>-5.560104</td>\n",
              "      <td>-6.180455</td>\n",
              "      <td>-4.082867</td>\n",
              "      <td>-3.185611</td>\n",
              "      <td>-0.009179</td>\n",
              "      <td>-2.024517</td>\n",
              "      <td>1.227514</td>\n",
              "      <td>-1.324296</td>\n",
              "    </tr>\n",
              "    <tr>\n",
              "      <th>3</th>\n",
              "      <td>-0.190881</td>\n",
              "      <td>-9.120643</td>\n",
              "      <td>-3.135722</td>\n",
              "      <td>-3.100213</td>\n",
              "      <td>0.073429</td>\n",
              "      <td>-2.009057</td>\n",
              "      <td>0.966730</td>\n",
              "      <td>-1.409640</td>\n",
              "    </tr>\n",
              "    <tr>\n",
              "      <th>4</th>\n",
              "      <td>-6.263063</td>\n",
              "      <td>-5.652482</td>\n",
              "      <td>-3.581750</td>\n",
              "      <td>-3.693985</td>\n",
              "      <td>0.149850</td>\n",
              "      <td>-2.353462</td>\n",
              "      <td>1.264885</td>\n",
              "      <td>-1.173828</td>\n",
              "    </tr>\n",
              "    <tr>\n",
              "      <th>5</th>\n",
              "      <td>-4.511716</td>\n",
              "      <td>-5.687476</td>\n",
              "      <td>-2.884619</td>\n",
              "      <td>-2.639537</td>\n",
              "      <td>-0.135141</td>\n",
              "      <td>-2.132251</td>\n",
              "      <td>0.917052</td>\n",
              "      <td>-1.324051</td>\n",
              "    </tr>\n",
              "    <tr>\n",
              "      <th>6</th>\n",
              "      <td>-4.574531</td>\n",
              "      <td>-5.369278</td>\n",
              "      <td>-3.071122</td>\n",
              "      <td>-2.670246</td>\n",
              "      <td>-0.051949</td>\n",
              "      <td>-1.480081</td>\n",
              "      <td>1.045981</td>\n",
              "      <td>-1.309619</td>\n",
              "    </tr>\n",
              "    <tr>\n",
              "      <th>7</th>\n",
              "      <td>0.023247</td>\n",
              "      <td>-7.757577</td>\n",
              "      <td>-3.256873</td>\n",
              "      <td>-2.723777</td>\n",
              "      <td>-0.207885</td>\n",
              "      <td>-2.095515</td>\n",
              "      <td>1.133300</td>\n",
              "      <td>-0.924397</td>\n",
              "    </tr>\n",
              "    <tr>\n",
              "      <th>8</th>\n",
              "      <td>-6.529101</td>\n",
              "      <td>-6.628496</td>\n",
              "      <td>-4.014868</td>\n",
              "      <td>-2.978398</td>\n",
              "      <td>0.029693</td>\n",
              "      <td>-1.853489</td>\n",
              "      <td>0.726840</td>\n",
              "      <td>-1.288122</td>\n",
              "    </tr>\n",
              "    <tr>\n",
              "      <th>9</th>\n",
              "      <td>-4.633153</td>\n",
              "      <td>-6.201126</td>\n",
              "      <td>-2.864560</td>\n",
              "      <td>-3.025653</td>\n",
              "      <td>0.071906</td>\n",
              "      <td>-2.068136</td>\n",
              "      <td>0.722380</td>\n",
              "      <td>-1.756547</td>\n",
              "    </tr>\n",
              "    <tr>\n",
              "      <th>10</th>\n",
              "      <td>-0.805076</td>\n",
              "      <td>-5.437613</td>\n",
              "      <td>-4.762957</td>\n",
              "      <td>-2.628438</td>\n",
              "      <td>0.055292</td>\n",
              "      <td>-2.169539</td>\n",
              "      <td>1.028208</td>\n",
              "      <td>-1.497531</td>\n",
              "    </tr>\n",
              "    <tr>\n",
              "      <th>11</th>\n",
              "      <td>-3.333676</td>\n",
              "      <td>-5.968272</td>\n",
              "      <td>-3.577806</td>\n",
              "      <td>-2.833951</td>\n",
              "      <td>0.310212</td>\n",
              "      <td>-2.053063</td>\n",
              "      <td>1.094705</td>\n",
              "      <td>-1.566741</td>\n",
              "    </tr>\n",
              "    <tr>\n",
              "      <th>12</th>\n",
              "      <td>-5.386125</td>\n",
              "      <td>-5.626250</td>\n",
              "      <td>-3.448317</td>\n",
              "      <td>-2.497352</td>\n",
              "      <td>0.208758</td>\n",
              "      <td>-1.915745</td>\n",
              "      <td>0.946153</td>\n",
              "      <td>-1.236305</td>\n",
              "    </tr>\n",
              "    <tr>\n",
              "      <th>13</th>\n",
              "      <td>-4.125241</td>\n",
              "      <td>-4.725026</td>\n",
              "      <td>-3.645562</td>\n",
              "      <td>-2.434889</td>\n",
              "      <td>-0.287309</td>\n",
              "      <td>-2.402775</td>\n",
              "      <td>0.845936</td>\n",
              "      <td>-1.279153</td>\n",
              "    </tr>\n",
              "    <tr>\n",
              "      <th>14</th>\n",
              "      <td>-2.434205</td>\n",
              "      <td>-5.409030</td>\n",
              "      <td>-3.557347</td>\n",
              "      <td>-2.865570</td>\n",
              "      <td>-0.032052</td>\n",
              "      <td>-1.841420</td>\n",
              "      <td>1.082810</td>\n",
              "      <td>-1.332854</td>\n",
              "    </tr>\n",
              "    <tr>\n",
              "      <th>15</th>\n",
              "      <td>-4.523373</td>\n",
              "      <td>-5.867680</td>\n",
              "      <td>-3.670702</td>\n",
              "      <td>-2.600955</td>\n",
              "      <td>0.055019</td>\n",
              "      <td>-1.898498</td>\n",
              "      <td>1.428872</td>\n",
              "      <td>-1.536688</td>\n",
              "    </tr>\n",
              "    <tr>\n",
              "      <th>16</th>\n",
              "      <td>-4.050205</td>\n",
              "      <td>-5.753284</td>\n",
              "      <td>-3.337399</td>\n",
              "      <td>-2.660921</td>\n",
              "      <td>0.011094</td>\n",
              "      <td>-1.991486</td>\n",
              "      <td>1.347117</td>\n",
              "      <td>-1.641942</td>\n",
              "    </tr>\n",
              "    <tr>\n",
              "      <th>17</th>\n",
              "      <td>-2.559200</td>\n",
              "      <td>-6.754234</td>\n",
              "      <td>-3.809365</td>\n",
              "      <td>-2.795296</td>\n",
              "      <td>-0.053757</td>\n",
              "      <td>-2.018073</td>\n",
              "      <td>0.999108</td>\n",
              "      <td>-1.114522</td>\n",
              "    </tr>\n",
              "    <tr>\n",
              "      <th>18</th>\n",
              "      <td>-3.971669</td>\n",
              "      <td>-5.706915</td>\n",
              "      <td>-3.019259</td>\n",
              "      <td>-2.706519</td>\n",
              "      <td>0.071359</td>\n",
              "      <td>-2.226500</td>\n",
              "      <td>0.925950</td>\n",
              "      <td>-1.595624</td>\n",
              "    </tr>\n",
              "    <tr>\n",
              "      <th>19</th>\n",
              "      <td>-8.388736</td>\n",
              "      <td>-7.654172</td>\n",
              "      <td>-4.616921</td>\n",
              "      <td>-2.368068</td>\n",
              "      <td>0.077140</td>\n",
              "      <td>-2.064327</td>\n",
              "      <td>1.221130</td>\n",
              "      <td>-0.883461</td>\n",
              "    </tr>\n",
              "    <tr>\n",
              "      <th>20</th>\n",
              "      <td>-1.760708</td>\n",
              "      <td>-5.278087</td>\n",
              "      <td>-4.837219</td>\n",
              "      <td>-3.090121</td>\n",
              "      <td>-0.193527</td>\n",
              "      <td>-1.954161</td>\n",
              "      <td>1.136969</td>\n",
              "      <td>-1.677877</td>\n",
              "    </tr>\n",
              "    <tr>\n",
              "      <th>21</th>\n",
              "      <td>-3.051573</td>\n",
              "      <td>-4.831901</td>\n",
              "      <td>-4.139930</td>\n",
              "      <td>-3.222938</td>\n",
              "      <td>0.069434</td>\n",
              "      <td>-1.870615</td>\n",
              "      <td>0.549820</td>\n",
              "      <td>-0.829432</td>\n",
              "    </tr>\n",
              "    <tr>\n",
              "      <th>22</th>\n",
              "      <td>-8.096207</td>\n",
              "      <td>-8.024035</td>\n",
              "      <td>-4.372583</td>\n",
              "      <td>-2.823877</td>\n",
              "      <td>-0.175423</td>\n",
              "      <td>-2.005261</td>\n",
              "      <td>0.716782</td>\n",
              "      <td>-1.912306</td>\n",
              "    </tr>\n",
              "  </tbody>\n",
              "</table>\n",
              "</div>\n",
              "      <button class=\"colab-df-convert\" onclick=\"convertToInteractive('df-6457edf5-a0b5-49c0-8552-7c57b4562bf7')\"\n",
              "              title=\"Convert this dataframe to an interactive table.\"\n",
              "              style=\"display:none;\">\n",
              "        \n",
              "  <svg xmlns=\"http://www.w3.org/2000/svg\" height=\"24px\"viewBox=\"0 0 24 24\"\n",
              "       width=\"24px\">\n",
              "    <path d=\"M0 0h24v24H0V0z\" fill=\"none\"/>\n",
              "    <path d=\"M18.56 5.44l.94 2.06.94-2.06 2.06-.94-2.06-.94-.94-2.06-.94 2.06-2.06.94zm-11 1L8.5 8.5l.94-2.06 2.06-.94-2.06-.94L8.5 2.5l-.94 2.06-2.06.94zm10 10l.94 2.06.94-2.06 2.06-.94-2.06-.94-.94-2.06-.94 2.06-2.06.94z\"/><path d=\"M17.41 7.96l-1.37-1.37c-.4-.4-.92-.59-1.43-.59-.52 0-1.04.2-1.43.59L10.3 9.45l-7.72 7.72c-.78.78-.78 2.05 0 2.83L4 21.41c.39.39.9.59 1.41.59.51 0 1.02-.2 1.41-.59l7.78-7.78 2.81-2.81c.8-.78.8-2.07 0-2.86zM5.41 20L4 18.59l7.72-7.72 1.47 1.35L5.41 20z\"/>\n",
              "  </svg>\n",
              "      </button>\n",
              "      \n",
              "  <style>\n",
              "    .colab-df-container {\n",
              "      display:flex;\n",
              "      flex-wrap:wrap;\n",
              "      gap: 12px;\n",
              "    }\n",
              "\n",
              "    .colab-df-convert {\n",
              "      background-color: #E8F0FE;\n",
              "      border: none;\n",
              "      border-radius: 50%;\n",
              "      cursor: pointer;\n",
              "      display: none;\n",
              "      fill: #1967D2;\n",
              "      height: 32px;\n",
              "      padding: 0 0 0 0;\n",
              "      width: 32px;\n",
              "    }\n",
              "\n",
              "    .colab-df-convert:hover {\n",
              "      background-color: #E2EBFA;\n",
              "      box-shadow: 0px 1px 2px rgba(60, 64, 67, 0.3), 0px 1px 3px 1px rgba(60, 64, 67, 0.15);\n",
              "      fill: #174EA6;\n",
              "    }\n",
              "\n",
              "    [theme=dark] .colab-df-convert {\n",
              "      background-color: #3B4455;\n",
              "      fill: #D2E3FC;\n",
              "    }\n",
              "\n",
              "    [theme=dark] .colab-df-convert:hover {\n",
              "      background-color: #434B5C;\n",
              "      box-shadow: 0px 1px 3px 1px rgba(0, 0, 0, 0.15);\n",
              "      filter: drop-shadow(0px 1px 2px rgba(0, 0, 0, 0.3));\n",
              "      fill: #FFFFFF;\n",
              "    }\n",
              "  </style>\n",
              "\n",
              "      <script>\n",
              "        const buttonEl =\n",
              "          document.querySelector('#df-6457edf5-a0b5-49c0-8552-7c57b4562bf7 button.colab-df-convert');\n",
              "        buttonEl.style.display =\n",
              "          google.colab.kernel.accessAllowed ? 'block' : 'none';\n",
              "\n",
              "        async function convertToInteractive(key) {\n",
              "          const element = document.querySelector('#df-6457edf5-a0b5-49c0-8552-7c57b4562bf7');\n",
              "          const dataTable =\n",
              "            await google.colab.kernel.invokeFunction('convertToInteractive',\n",
              "                                                     [key], {});\n",
              "          if (!dataTable) return;\n",
              "\n",
              "          const docLinkHtml = 'Like what you see? Visit the ' +\n",
              "            '<a target=\"_blank\" href=https://colab.research.google.com/notebooks/data_table.ipynb>data table notebook</a>'\n",
              "            + ' to learn more about interactive tables.';\n",
              "          element.innerHTML = '';\n",
              "          dataTable['output_type'] = 'display_data';\n",
              "          await google.colab.output.renderOutput(dataTable, element);\n",
              "          const docLink = document.createElement('div');\n",
              "          docLink.innerHTML = docLinkHtml;\n",
              "          element.appendChild(docLink);\n",
              "        }\n",
              "      </script>\n",
              "    </div>\n",
              "  </div>\n",
              "  "
            ]
          },
          "metadata": {},
          "execution_count": 49
        }
      ]
    },
    {
      "cell_type": "code",
      "source": [
        "fig = sns.scatterplot(data = cars_pca, x = 0, y = 1)\n",
        "fig.set(xlabel='x1 ', ylabel='x2')\n",
        "plt.savefig(\"7-1.pdf\", format=\"pdf\", bbox_inches=\"tight\")"
      ],
      "metadata": {
        "colab": {
          "base_uri": "https://localhost:8080/",
          "height": 394
        },
        "id": "mi8PVvk21jxF",
        "outputId": "ee2ca8cb-264f-401e-a2b6-bbc339222f39"
      },
      "execution_count": 50,
      "outputs": [
        {
          "output_type": "display_data",
          "data": {
            "text/plain": [
              "<Figure size 576x432 with 1 Axes>"
            ],
            "image/png": "[encoded data removed]"
          },
          "metadata": {}
        }
      ]
    },
    {
      "cell_type": "code",
      "source": [
        "fig = sns.scatterplot(data = cars_, x = 1, y = 2)\n",
        "fig.set(xlabel='x1 ', ylabel='x2')\n",
        "plt.savefig(\"7-2.pdf\", format=\"pdf\", bbox_inches=\"tight\")"
      ],
      "metadata": {
        "colab": {
          "base_uri": "https://localhost:8080/",
          "height": 394
        },
        "id": "D2TMUKz511TX",
        "outputId": "df6e18d4-9564-4631-a06c-5e3e14df19a2"
      },
      "execution_count": 51,
      "outputs": [
        {
          "output_type": "display_data",
          "data": {
            "text/plain": [
              "<Figure size 576x432 with 1 Axes>"
            ],
            "image/png": "[encoded data removed]"
          },
          "metadata": {}
        }
      ]
    },
    {
      "cell_type": "code",
      "source": [
        "sum(eigenvalue[:2])/sum(eigenvalue)"
      ],
      "metadata": {
        "colab": {
          "base_uri": "https://localhost:8080/"
        },
        "id": "u87hq0LT2HHC",
        "outputId": "4ed4230a-622a-4760-f1ce-ef6a386625fc"
      },
      "execution_count": 52,
      "outputs": [
        {
          "output_type": "execute_result",
          "data": {
            "text/plain": [
              "0.9116343896806853"
            ]
          },
          "metadata": {},
          "execution_count": 52
        }
      ]
    },
    {
      "cell_type": "code",
      "source": [
        "sum(eigenvalue[:3])/sum(eigenvalue)"
      ],
      "metadata": {
        "colab": {
          "base_uri": "https://localhost:8080/"
        },
        "id": "6ce4tNAu5Syc",
        "outputId": "d21eb1b4-d041-4d2d-b4a9-2d7dcea33f40"
      },
      "execution_count": 53,
      "outputs": [
        {
          "output_type": "execute_result",
          "data": {
            "text/plain": [
              "0.9614704799055422"
            ]
          },
          "metadata": {},
          "execution_count": 53
        }
      ]
    }
  ]
}